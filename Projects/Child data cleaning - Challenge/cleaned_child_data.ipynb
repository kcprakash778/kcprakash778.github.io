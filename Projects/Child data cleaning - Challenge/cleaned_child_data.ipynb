{
 "cells": [
  {
   "cell_type": "markdown",
   "metadata": {},
   "source": [
    "# Importing the packages."
   ]
  },
  {
   "cell_type": "code",
   "execution_count": null,
   "metadata": {},
   "outputs": [],
   "source": [
    "import pandas as pd\n",
    "import numpy as np\n",
    "from datetime import datetime\n",
    "import calendar"
   ]
  },
  {
   "cell_type": "code",
   "execution_count": 2,
   "metadata": {},
   "outputs": [
    {
     "name": "stdout",
     "output_type": "stream",
     "text": [
      "The Shape of the data is : (39, 7)\n"
     ]
    },
    {
     "data": {
      "text/html": [
       "<div>\n",
       "<style scoped>\n",
       "    .dataframe tbody tr th:only-of-type {\n",
       "        vertical-align: middle;\n",
       "    }\n",
       "\n",
       "    .dataframe tbody tr th {\n",
       "        vertical-align: top;\n",
       "    }\n",
       "\n",
       "    .dataframe thead th {\n",
       "        text-align: right;\n",
       "    }\n",
       "</style>\n",
       "<table border=\"1\" class=\"dataframe\">\n",
       "  <thead>\n",
       "    <tr style=\"text-align: right;\">\n",
       "      <th></th>\n",
       "      <th>Unnamed: 0</th>\n",
       "      <th>name</th>\n",
       "      <th>Birth Month</th>\n",
       "      <th>Birth Year</th>\n",
       "      <th>Day</th>\n",
       "      <th>Height</th>\n",
       "      <th>Remarks</th>\n",
       "    </tr>\n",
       "  </thead>\n",
       "  <tbody>\n",
       "    <tr>\n",
       "      <th>0</th>\n",
       "      <td>1</td>\n",
       "      <td>David</td>\n",
       "      <td>5</td>\n",
       "      <td>88</td>\n",
       "      <td>1st Monday</td>\n",
       "      <td>2'0''</td>\n",
       "      <td>Boy  with Left biggerfoot and Right dominant hand</td>\n",
       "    </tr>\n",
       "    <tr>\n",
       "      <th>1</th>\n",
       "      <td>2</td>\n",
       "      <td>Lars</td>\n",
       "      <td>10</td>\n",
       "      <td>87</td>\n",
       "      <td>3rd Tuesday</td>\n",
       "      <td>2'1''</td>\n",
       "      <td>Boy  with Left biggerfoot and Left dominant hand</td>\n",
       "    </tr>\n",
       "  </tbody>\n",
       "</table>\n",
       "</div>"
      ],
      "text/plain": [
       "   Unnamed: 0   name  Birth Month  Birth Year          Day Height  \\\n",
       "0           1  David            5          88   1st Monday  2'0''   \n",
       "1           2   Lars           10          87  3rd Tuesday  2'1''   \n",
       "\n",
       "                                             Remarks  \n",
       "0  Boy  with Left biggerfoot and Right dominant hand  \n",
       "1   Boy  with Left biggerfoot and Left dominant hand  "
      ]
     },
     "execution_count": 2,
     "metadata": {},
     "output_type": "execute_result"
    }
   ],
   "source": [
    "data= pd.read_csv('child_data.csv')\n",
    "print('The Shape of the data is :',data.shape)\n",
    "data.head(2)"
   ]
  },
  {
   "cell_type": "markdown",
   "metadata": {},
   "source": [
    "### Slicing the unnecessary column."
   ]
  },
  {
   "cell_type": "code",
   "execution_count": 3,
   "metadata": {},
   "outputs": [
    {
     "data": {
      "text/html": [
       "<div>\n",
       "<style scoped>\n",
       "    .dataframe tbody tr th:only-of-type {\n",
       "        vertical-align: middle;\n",
       "    }\n",
       "\n",
       "    .dataframe tbody tr th {\n",
       "        vertical-align: top;\n",
       "    }\n",
       "\n",
       "    .dataframe thead th {\n",
       "        text-align: right;\n",
       "    }\n",
       "</style>\n",
       "<table border=\"1\" class=\"dataframe\">\n",
       "  <thead>\n",
       "    <tr style=\"text-align: right;\">\n",
       "      <th></th>\n",
       "      <th>name</th>\n",
       "      <th>Birth Month</th>\n",
       "      <th>Birth Year</th>\n",
       "      <th>Day</th>\n",
       "      <th>Height</th>\n",
       "      <th>Remarks</th>\n",
       "    </tr>\n",
       "  </thead>\n",
       "  <tbody>\n",
       "    <tr>\n",
       "      <th>0</th>\n",
       "      <td>David</td>\n",
       "      <td>5</td>\n",
       "      <td>88</td>\n",
       "      <td>1st Monday</td>\n",
       "      <td>2'0''</td>\n",
       "      <td>Boy  with Left biggerfoot and Right dominant hand</td>\n",
       "    </tr>\n",
       "    <tr>\n",
       "      <th>1</th>\n",
       "      <td>Lars</td>\n",
       "      <td>10</td>\n",
       "      <td>87</td>\n",
       "      <td>3rd Tuesday</td>\n",
       "      <td>2'1''</td>\n",
       "      <td>Boy  with Left biggerfoot and Left dominant hand</td>\n",
       "    </tr>\n",
       "  </tbody>\n",
       "</table>\n",
       "</div>"
      ],
      "text/plain": [
       "    name  Birth Month  Birth Year          Day Height  \\\n",
       "0  David            5          88   1st Monday  2'0''   \n",
       "1   Lars           10          87  3rd Tuesday  2'1''   \n",
       "\n",
       "                                             Remarks  \n",
       "0  Boy  with Left biggerfoot and Right dominant hand  \n",
       "1   Boy  with Left biggerfoot and Left dominant hand  "
      ]
     },
     "execution_count": 3,
     "metadata": {},
     "output_type": "execute_result"
    }
   ],
   "source": [
    "data=data.iloc[:,1:]\n",
    "data.head(2)"
   ]
  },
  {
   "cell_type": "markdown",
   "metadata": {},
   "source": [
    "## Inspecting the DataFrame."
   ]
  },
  {
   "cell_type": "code",
   "execution_count": 166,
   "metadata": {},
   "outputs": [
    {
     "name": "stdout",
     "output_type": "stream",
     "text": [
      "<class 'pandas.core.frame.DataFrame'>\n",
      "RangeIndex: 39 entries, 0 to 38\n",
      "Data columns (total 6 columns):\n",
      "name           39 non-null object\n",
      "Birth Month    39 non-null int64\n",
      "Birth Year     39 non-null int64\n",
      "Day            39 non-null object\n",
      "Height         39 non-null object\n",
      "Remarks        39 non-null object\n",
      "dtypes: int64(2), object(4)\n",
      "memory usage: 2.0+ KB\n"
     ]
    }
   ],
   "source": [
    "data.info()"
   ]
  },
  {
   "cell_type": "code",
   "execution_count": 167,
   "metadata": {},
   "outputs": [
    {
     "data": {
      "text/plain": [
       "name           0\n",
       "Birth Month    0\n",
       "Birth Year     0\n",
       "Day            0\n",
       "Height         0\n",
       "Remarks        0\n",
       "dtype: int64"
      ]
     },
     "execution_count": 167,
     "metadata": {},
     "output_type": "execute_result"
    }
   ],
   "source": [
    "data.isnull().sum()"
   ]
  },
  {
   "cell_type": "markdown",
   "metadata": {},
   "source": [
    "# Cleaning the Data to the given format"
   ]
  },
  {
   "cell_type": "markdown",
   "metadata": {},
   "source": [
    "## Name | Date of Birth | Height(in cm) | Bigger Foot(L/R) | Dominant Hand(L/R)"
   ]
  },
  {
   "cell_type": "markdown",
   "metadata": {},
   "source": [
    "## Height"
   ]
  },
  {
   "cell_type": "code",
   "execution_count": 157,
   "metadata": {},
   "outputs": [],
   "source": [
    "y = data.iloc[:,4]\n",
    "punctuations = '''!()-[]{};:'\"\\,<>./?@#$%^&*_~'''\n",
    "no_punct = \"\"\n",
    "for char in y:\n",
    "   if char not in punctuations:\n",
    "    no_punct = no_punct + char\n",
    "\n",
    "# display the unpunctuated string\n",
    "# print(no_punct)\n",
    "\n",
    "l = []\n",
    "for letter in no_punct:\n",
    "    try:\n",
    "        l.append(float(letter))\n",
    "    except:\n",
    "        continue\n",
    "\n",
    "\n",
    "feet=[]\n",
    "inches=[]\n",
    "count=0\n",
    "for count,i in enumerate(l):\n",
    "    if count%2==0:\n",
    "        feet.append(i)\n",
    "    if count%2==1:\n",
    "        inches.append(i)\n",
    "    count=count+1\n",
    "\n",
    "height=[]\n",
    "for i in range(0,39):\n",
    "    height.append(feet[i]*30.48+inches[i]*2.54)"
   ]
  },
  {
   "cell_type": "code",
   "execution_count": 158,
   "metadata": {},
   "outputs": [
    {
     "data": {
      "text/plain": [
       "[60.96, 63.5, 60.96, 63.5, 63.5, 63.5, 66.04, 33.02, 33.02, 33.02]"
      ]
     },
     "execution_count": 158,
     "metadata": {},
     "output_type": "execute_result"
    }
   ],
   "source": [
    "height[0:10]"
   ]
  },
  {
   "cell_type": "markdown",
   "metadata": {},
   "source": [
    "## Gender"
   ]
  },
  {
   "cell_type": "code",
   "execution_count": 57,
   "metadata": {},
   "outputs": [],
   "source": [
    "a=data.Remarks\n",
    "gender=a.str.split('\\s+').str[0]\n"
   ]
  },
  {
   "cell_type": "code",
   "execution_count": 58,
   "metadata": {},
   "outputs": [
    {
     "data": {
      "text/plain": [
       "0    Boy\n",
       "1    Boy\n",
       "2    Boy\n",
       "3    Boy\n",
       "4    Boy\n",
       "Name: Remarks, dtype: object"
      ]
     },
     "execution_count": 58,
     "metadata": {},
     "output_type": "execute_result"
    }
   ],
   "source": [
    "gender[0:5]"
   ]
  },
  {
   "cell_type": "markdown",
   "metadata": {},
   "source": [
    "## Dominant hand and bigger foot"
   ]
  },
  {
   "cell_type": "code",
   "execution_count": 159,
   "metadata": {},
   "outputs": [],
   "source": [
    "bigger_foot=a.str.split('\\s+').str[2]\n",
    "dominant_hand=a.str.split('\\s+').str[5]"
   ]
  },
  {
   "cell_type": "markdown",
   "metadata": {},
   "source": [
    "## Birthdate Calculation\n"
   ]
  },
  {
   "cell_type": "code",
   "execution_count": 63,
   "metadata": {},
   "outputs": [
    {
     "data": {
      "text/html": [
       "<div>\n",
       "<style scoped>\n",
       "    .dataframe tbody tr th:only-of-type {\n",
       "        vertical-align: middle;\n",
       "    }\n",
       "\n",
       "    .dataframe tbody tr th {\n",
       "        vertical-align: top;\n",
       "    }\n",
       "\n",
       "    .dataframe thead th {\n",
       "        text-align: right;\n",
       "    }\n",
       "</style>\n",
       "<table border=\"1\" class=\"dataframe\">\n",
       "  <thead>\n",
       "    <tr style=\"text-align: right;\">\n",
       "      <th></th>\n",
       "      <th>name</th>\n",
       "      <th>Birth Month</th>\n",
       "      <th>Birth Year</th>\n",
       "      <th>Day</th>\n",
       "      <th>Height</th>\n",
       "      <th>Remarks</th>\n",
       "    </tr>\n",
       "  </thead>\n",
       "  <tbody>\n",
       "    <tr>\n",
       "      <th>0</th>\n",
       "      <td>David</td>\n",
       "      <td>5</td>\n",
       "      <td>88</td>\n",
       "      <td>1st Monday</td>\n",
       "      <td>2'0''</td>\n",
       "      <td>Boy  with Left biggerfoot and Right dominant hand</td>\n",
       "    </tr>\n",
       "    <tr>\n",
       "      <th>1</th>\n",
       "      <td>Lars</td>\n",
       "      <td>10</td>\n",
       "      <td>87</td>\n",
       "      <td>3rd Tuesday</td>\n",
       "      <td>2'1''</td>\n",
       "      <td>Boy  with Left biggerfoot and Left dominant hand</td>\n",
       "    </tr>\n",
       "    <tr>\n",
       "      <th>2</th>\n",
       "      <td>Zach</td>\n",
       "      <td>12</td>\n",
       "      <td>87</td>\n",
       "      <td>2nd Saturday</td>\n",
       "      <td>2'0''</td>\n",
       "      <td>Boy  with Right biggerfoot and Right dominant ...</td>\n",
       "    </tr>\n",
       "  </tbody>\n",
       "</table>\n",
       "</div>"
      ],
      "text/plain": [
       "    name  Birth Month  Birth Year           Day Height  \\\n",
       "0  David            5          88    1st Monday  2'0''   \n",
       "1   Lars           10          87   3rd Tuesday  2'1''   \n",
       "2   Zach           12          87  2nd Saturday  2'0''   \n",
       "\n",
       "                                             Remarks  \n",
       "0  Boy  with Left biggerfoot and Right dominant hand  \n",
       "1   Boy  with Left biggerfoot and Left dominant hand  \n",
       "2  Boy  with Right biggerfoot and Right dominant ...  "
      ]
     },
     "execution_count": 63,
     "metadata": {},
     "output_type": "execute_result"
    }
   ],
   "source": [
    "data.head(3)"
   ]
  },
  {
   "cell_type": "code",
   "execution_count": 64,
   "metadata": {},
   "outputs": [
    {
     "data": {
      "text/html": [
       "<div>\n",
       "<style scoped>\n",
       "    .dataframe tbody tr th:only-of-type {\n",
       "        vertical-align: middle;\n",
       "    }\n",
       "\n",
       "    .dataframe tbody tr th {\n",
       "        vertical-align: top;\n",
       "    }\n",
       "\n",
       "    .dataframe thead th {\n",
       "        text-align: right;\n",
       "    }\n",
       "</style>\n",
       "<table border=\"1\" class=\"dataframe\">\n",
       "  <thead>\n",
       "    <tr style=\"text-align: right;\">\n",
       "      <th></th>\n",
       "      <th>name</th>\n",
       "      <th>Birth Month</th>\n",
       "      <th>Birth Year</th>\n",
       "      <th>Day</th>\n",
       "      <th>Height</th>\n",
       "      <th>Remarks</th>\n",
       "    </tr>\n",
       "  </thead>\n",
       "  <tbody>\n",
       "    <tr>\n",
       "      <th>0</th>\n",
       "      <td>David</td>\n",
       "      <td>5</td>\n",
       "      <td>1988</td>\n",
       "      <td>1st Monday</td>\n",
       "      <td>2'0''</td>\n",
       "      <td>Boy  with Left biggerfoot and Right dominant hand</td>\n",
       "    </tr>\n",
       "    <tr>\n",
       "      <th>1</th>\n",
       "      <td>Lars</td>\n",
       "      <td>10</td>\n",
       "      <td>1987</td>\n",
       "      <td>3rd Tuesday</td>\n",
       "      <td>2'1''</td>\n",
       "      <td>Boy  with Left biggerfoot and Left dominant hand</td>\n",
       "    </tr>\n",
       "    <tr>\n",
       "      <th>2</th>\n",
       "      <td>Zach</td>\n",
       "      <td>12</td>\n",
       "      <td>1987</td>\n",
       "      <td>2nd Saturday</td>\n",
       "      <td>2'0''</td>\n",
       "      <td>Boy  with Right biggerfoot and Right dominant ...</td>\n",
       "    </tr>\n",
       "  </tbody>\n",
       "</table>\n",
       "</div>"
      ],
      "text/plain": [
       "    name  Birth Month  Birth Year           Day Height  \\\n",
       "0  David            5        1988    1st Monday  2'0''   \n",
       "1   Lars           10        1987   3rd Tuesday  2'1''   \n",
       "2   Zach           12        1987  2nd Saturday  2'0''   \n",
       "\n",
       "                                             Remarks  \n",
       "0  Boy  with Left biggerfoot and Right dominant hand  \n",
       "1   Boy  with Left biggerfoot and Left dominant hand  \n",
       "2  Boy  with Right biggerfoot and Right dominant ...  "
      ]
     },
     "execution_count": 64,
     "metadata": {},
     "output_type": "execute_result"
    }
   ],
   "source": [
    "data['Birth Year']=data['Birth Year'].replace(to_replace=88,value=1988)\n",
    "data['Birth Year']=data['Birth Year'].replace(to_replace=87,value=1987)\n",
    "\n",
    "data.head(3)\n"
   ]
  },
  {
   "cell_type": "code",
   "execution_count": 65,
   "metadata": {},
   "outputs": [
    {
     "data": {
      "text/plain": [
       "True"
      ]
     },
     "execution_count": 65,
     "metadata": {},
     "output_type": "execute_result"
    }
   ],
   "source": [
    "calendar.isleap(1988)"
   ]
  },
  {
   "cell_type": "markdown",
   "metadata": {},
   "source": [
    "### Assuming the year of 1900s and 1988 is a leap year"
   ]
  },
  {
   "cell_type": "code",
   "execution_count": 66,
   "metadata": {},
   "outputs": [
    {
     "data": {
      "text/html": [
       "<div>\n",
       "<style scoped>\n",
       "    .dataframe tbody tr th:only-of-type {\n",
       "        vertical-align: middle;\n",
       "    }\n",
       "\n",
       "    .dataframe tbody tr th {\n",
       "        vertical-align: top;\n",
       "    }\n",
       "\n",
       "    .dataframe thead th {\n",
       "        text-align: right;\n",
       "    }\n",
       "</style>\n",
       "<table border=\"1\" class=\"dataframe\">\n",
       "  <thead>\n",
       "    <tr style=\"text-align: right;\">\n",
       "      <th></th>\n",
       "      <th>Birth Month</th>\n",
       "      <th>Birth Year</th>\n",
       "      <th>Day</th>\n",
       "    </tr>\n",
       "  </thead>\n",
       "  <tbody>\n",
       "    <tr>\n",
       "      <th>0</th>\n",
       "      <td>5</td>\n",
       "      <td>1988</td>\n",
       "      <td>1st Monday</td>\n",
       "    </tr>\n",
       "    <tr>\n",
       "      <th>1</th>\n",
       "      <td>10</td>\n",
       "      <td>1987</td>\n",
       "      <td>3rd Tuesday</td>\n",
       "    </tr>\n",
       "  </tbody>\n",
       "</table>\n",
       "</div>"
      ],
      "text/plain": [
       "   Birth Month  Birth Year          Day\n",
       "0            5        1988   1st Monday\n",
       "1           10        1987  3rd Tuesday"
      ]
     },
     "execution_count": 66,
     "metadata": {},
     "output_type": "execute_result"
    }
   ],
   "source": [
    "x= data.iloc[0:,1:4]\n",
    "x.head(2)"
   ]
  },
  {
   "cell_type": "code",
   "execution_count": 123,
   "metadata": {},
   "outputs": [],
   "source": [
    "def calculateDate(year,month,day):\n",
    "    day_list = day.split()\n",
    "    int_day = 0\n",
    "    for ch in day_list[0]:\n",
    "        int_day = int(ch)\n",
    "        break\n",
    "    week_day = []\n",
    "    for days in calendar.day_name:\n",
    "        week_day.append(days)\n",
    "        \n",
    "    day = week_day.index(day_list[1])\n",
    "    \n",
    "    week_list = []\n",
    "    for week in calendar.monthcalendar(1988,5):\n",
    "        if week[day] != 0:\n",
    "            week_list.append(week[day])\n",
    "    day_num= week_list[int_day-1]\n",
    "    print(day_num)\n",
    "    x = str(year)+'-'+str(month)+'-'+str(day_num)\n",
    "    return datetime.strptime(x,'%Y-%m-%d')"
   ]
  },
  {
   "cell_type": "code",
   "execution_count": 168,
   "metadata": {},
   "outputs": [
    {
     "name": "stdout",
     "output_type": "stream",
     "text": [
      "2\n"
     ]
    },
    {
     "data": {
      "text/plain": [
       "datetime.datetime(1988, 5, 2, 0, 0)"
      ]
     },
     "execution_count": 168,
     "metadata": {},
     "output_type": "execute_result"
    }
   ],
   "source": [
    "calculateDate(1988,5,'1st Monday')"
   ]
  },
  {
   "cell_type": "code",
   "execution_count": 169,
   "metadata": {},
   "outputs": [
    {
     "data": {
      "text/html": [
       "<div>\n",
       "<style scoped>\n",
       "    .dataframe tbody tr th:only-of-type {\n",
       "        vertical-align: middle;\n",
       "    }\n",
       "\n",
       "    .dataframe tbody tr th {\n",
       "        vertical-align: top;\n",
       "    }\n",
       "\n",
       "    .dataframe thead th {\n",
       "        text-align: right;\n",
       "    }\n",
       "</style>\n",
       "<table border=\"1\" class=\"dataframe\">\n",
       "  <thead>\n",
       "    <tr style=\"text-align: right;\">\n",
       "      <th></th>\n",
       "      <th>birth_month</th>\n",
       "      <th>birth_year</th>\n",
       "      <th>birth_day</th>\n",
       "    </tr>\n",
       "  </thead>\n",
       "  <tbody>\n",
       "    <tr>\n",
       "      <th>0</th>\n",
       "      <td>5</td>\n",
       "      <td>1988</td>\n",
       "      <td>1st Monday</td>\n",
       "    </tr>\n",
       "    <tr>\n",
       "      <th>1</th>\n",
       "      <td>10</td>\n",
       "      <td>1987</td>\n",
       "      <td>3rd Tuesday</td>\n",
       "    </tr>\n",
       "    <tr>\n",
       "      <th>2</th>\n",
       "      <td>12</td>\n",
       "      <td>1987</td>\n",
       "      <td>2nd Saturday</td>\n",
       "    </tr>\n",
       "  </tbody>\n",
       "</table>\n",
       "</div>"
      ],
      "text/plain": [
       "   birth_month  birth_year     birth_day\n",
       "0            5        1988    1st Monday\n",
       "1           10        1987   3rd Tuesday\n",
       "2           12        1987  2nd Saturday"
      ]
     },
     "execution_count": 169,
     "metadata": {},
     "output_type": "execute_result"
    }
   ],
   "source": [
    "x.head(3)"
   ]
  },
  {
   "cell_type": "code",
   "execution_count": 170,
   "metadata": {},
   "outputs": [
    {
     "name": "stdout",
     "output_type": "stream",
     "text": [
      "2\n",
      "17\n",
      "14\n",
      "3\n",
      "2\n",
      "6\n",
      "5\n",
      "22\n",
      "13\n",
      "9\n",
      "27\n",
      "18\n",
      "4\n",
      "19\n",
      "16\n",
      "19\n",
      "11\n",
      "10\n",
      "22\n",
      "12\n",
      "21\n",
      "11\n",
      "3\n",
      "7\n",
      "28\n",
      "27\n",
      "25\n",
      "17\n",
      "16\n",
      "16\n",
      "25\n",
      "17\n",
      "13\n",
      "22\n",
      "14\n",
      "1\n",
      "5\n",
      "12\n",
      "22\n"
     ]
    }
   ],
   "source": [
    "b_day=[]\n",
    "for i in x.itertuples():\n",
    "    b_day.append(calculateDate(i[2],i[1],i[3]))"
   ]
  },
  {
   "cell_type": "code",
   "execution_count": 154,
   "metadata": {},
   "outputs": [
    {
     "data": {
      "text/plain": [
       "[datetime.datetime(1988, 5, 2, 0, 0),\n",
       " datetime.datetime(1987, 10, 17, 0, 0),\n",
       " datetime.datetime(1987, 12, 14, 0, 0),\n",
       " datetime.datetime(1988, 1, 3, 0, 0),\n",
       " datetime.datetime(1988, 2, 2, 0, 0)]"
      ]
     },
     "execution_count": 154,
     "metadata": {},
     "output_type": "execute_result"
    }
   ],
   "source": [
    "b_day[0:5]"
   ]
  },
  {
   "cell_type": "markdown",
   "metadata": {},
   "source": [
    "## Creating the Cleaned DataFrame"
   ]
  },
  {
   "cell_type": "code",
   "execution_count": 161,
   "metadata": {},
   "outputs": [],
   "source": [
    "new_data={'Name':data.name,'Date of Birth':b_day,'Height(in cm)':height,'Bigger Foot(L/R)':bigger_foot,\n",
    "          'Dominant Hand(L/R)':dominant_hand}\n",
    "new_data=pd.DataFrame(new_data)"
   ]
  },
  {
   "cell_type": "markdown",
   "metadata": {},
   "source": [
    "### Comparision of Orginal Data and Cleaned Data"
   ]
  },
  {
   "cell_type": "code",
   "execution_count": 163,
   "metadata": {},
   "outputs": [
    {
     "data": {
      "text/html": [
       "<div>\n",
       "<style scoped>\n",
       "    .dataframe tbody tr th:only-of-type {\n",
       "        vertical-align: middle;\n",
       "    }\n",
       "\n",
       "    .dataframe tbody tr th {\n",
       "        vertical-align: top;\n",
       "    }\n",
       "\n",
       "    .dataframe thead th {\n",
       "        text-align: right;\n",
       "    }\n",
       "</style>\n",
       "<table border=\"1\" class=\"dataframe\">\n",
       "  <thead>\n",
       "    <tr style=\"text-align: right;\">\n",
       "      <th></th>\n",
       "      <th>name</th>\n",
       "      <th>Birth Month</th>\n",
       "      <th>Birth Year</th>\n",
       "      <th>Day</th>\n",
       "      <th>Height</th>\n",
       "      <th>Remarks</th>\n",
       "    </tr>\n",
       "  </thead>\n",
       "  <tbody>\n",
       "    <tr>\n",
       "      <th>0</th>\n",
       "      <td>David</td>\n",
       "      <td>5</td>\n",
       "      <td>1988</td>\n",
       "      <td>1st Monday</td>\n",
       "      <td>2'0''</td>\n",
       "      <td>Boy  with Left biggerfoot and Right dominant hand</td>\n",
       "    </tr>\n",
       "    <tr>\n",
       "      <th>1</th>\n",
       "      <td>Lars</td>\n",
       "      <td>10</td>\n",
       "      <td>1987</td>\n",
       "      <td>3rd Tuesday</td>\n",
       "      <td>2'1''</td>\n",
       "      <td>Boy  with Left biggerfoot and Left dominant hand</td>\n",
       "    </tr>\n",
       "    <tr>\n",
       "      <th>2</th>\n",
       "      <td>Zach</td>\n",
       "      <td>12</td>\n",
       "      <td>1987</td>\n",
       "      <td>2nd Saturday</td>\n",
       "      <td>2'0''</td>\n",
       "      <td>Boy  with Right biggerfoot and Right dominant ...</td>\n",
       "    </tr>\n",
       "  </tbody>\n",
       "</table>\n",
       "</div>"
      ],
      "text/plain": [
       "    name  Birth Month  Birth Year           Day Height  \\\n",
       "0  David            5        1988    1st Monday  2'0''   \n",
       "1   Lars           10        1987   3rd Tuesday  2'1''   \n",
       "2   Zach           12        1987  2nd Saturday  2'0''   \n",
       "\n",
       "                                             Remarks  \n",
       "0  Boy  with Left biggerfoot and Right dominant hand  \n",
       "1   Boy  with Left biggerfoot and Left dominant hand  \n",
       "2  Boy  with Right biggerfoot and Right dominant ...  "
      ]
     },
     "execution_count": 163,
     "metadata": {},
     "output_type": "execute_result"
    }
   ],
   "source": [
    "data.head(3) # This is original data"
   ]
  },
  {
   "cell_type": "code",
   "execution_count": 164,
   "metadata": {},
   "outputs": [
    {
     "data": {
      "text/html": [
       "<div>\n",
       "<style scoped>\n",
       "    .dataframe tbody tr th:only-of-type {\n",
       "        vertical-align: middle;\n",
       "    }\n",
       "\n",
       "    .dataframe tbody tr th {\n",
       "        vertical-align: top;\n",
       "    }\n",
       "\n",
       "    .dataframe thead th {\n",
       "        text-align: right;\n",
       "    }\n",
       "</style>\n",
       "<table border=\"1\" class=\"dataframe\">\n",
       "  <thead>\n",
       "    <tr style=\"text-align: right;\">\n",
       "      <th></th>\n",
       "      <th>Name</th>\n",
       "      <th>Date of Birth</th>\n",
       "      <th>Height(in cm)</th>\n",
       "      <th>Bigger Foot(L/R)</th>\n",
       "      <th>Dominant Hand(L/R)</th>\n",
       "    </tr>\n",
       "  </thead>\n",
       "  <tbody>\n",
       "    <tr>\n",
       "      <th>0</th>\n",
       "      <td>David</td>\n",
       "      <td>1988-05-02</td>\n",
       "      <td>60.96</td>\n",
       "      <td>Left</td>\n",
       "      <td>Right</td>\n",
       "    </tr>\n",
       "    <tr>\n",
       "      <th>1</th>\n",
       "      <td>Lars</td>\n",
       "      <td>1987-10-17</td>\n",
       "      <td>63.50</td>\n",
       "      <td>Left</td>\n",
       "      <td>Left</td>\n",
       "    </tr>\n",
       "    <tr>\n",
       "      <th>2</th>\n",
       "      <td>Zach</td>\n",
       "      <td>1987-12-14</td>\n",
       "      <td>60.96</td>\n",
       "      <td>Right</td>\n",
       "      <td>Right</td>\n",
       "    </tr>\n",
       "  </tbody>\n",
       "</table>\n",
       "</div>"
      ],
      "text/plain": [
       "    Name Date of Birth  Height(in cm) Bigger Foot(L/R) Dominant Hand(L/R)\n",
       "0  David    1988-05-02          60.96             Left              Right\n",
       "1   Lars    1987-10-17          63.50             Left               Left\n",
       "2   Zach    1987-12-14          60.96            Right              Right"
      ]
     },
     "execution_count": 164,
     "metadata": {},
     "output_type": "execute_result"
    }
   ],
   "source": [
    "new_data.head(3) # Cleaned Data"
   ]
  },
  {
   "cell_type": "code",
   "execution_count": 165,
   "metadata": {},
   "outputs": [],
   "source": [
    "new_data.to_csv('cleaned_child_data.csv')"
   ]
  }
 ],
 "metadata": {
  "kernelspec": {
   "display_name": "Python 3",
   "language": "python",
   "name": "python3"
  },
  "language_info": {
   "codemirror_mode": {
    "name": "ipython",
    "version": 3
   },
   "file_extension": ".py",
   "mimetype": "text/x-python",
   "name": "python",
   "nbconvert_exporter": "python",
   "pygments_lexer": "ipython3",
   "version": "3.7.3"
  }
 },
 "nbformat": 4,
 "nbformat_minor": 2
}
