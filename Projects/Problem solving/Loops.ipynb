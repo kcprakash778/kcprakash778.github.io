{
 "metadata": {
  "language_info": {
   "codemirror_mode": {
    "name": "ipython",
    "version": 3
   },
   "file_extension": ".py",
   "mimetype": "text/x-python",
   "name": "python",
   "nbconvert_exporter": "python",
   "pygments_lexer": "ipython3",
   "version": "3.8.0-final"
  },
  "orig_nbformat": 2,
  "kernelspec": {
   "name": "python3",
   "display_name": "Python 3",
   "language": "python"
  }
 },
 "nbformat": 4,
 "nbformat_minor": 2,
 "cells": [
  {
   "cell_type": "code",
   "execution_count": 5,
   "metadata": {},
   "outputs": [
    {
     "output_type": "stream",
     "name": "stdout",
     "text": [
      "0 \t -18\n20 \t -7\n40 \t 4\n60 \t 15\n80 \t 26\n100 \t 37\n"
     ]
    }
   ],
   "source": [
    "s = 0\n",
    "e = 100\n",
    "w = 20 \n",
    "\n",
    "while s <= e:\n",
    "    c = (s-32)*5//9\n",
    "    print(s,\"\\t\",c)\n",
    "    s = s+w"
   ]
  },
  {
   "cell_type": "code",
   "execution_count": 7,
   "metadata": {},
   "outputs": [
    {
     "output_type": "stream",
     "name": "stdout",
     "text": [
      "56\n"
     ]
    }
   ],
   "source": [
    "a = 56.888\n",
    "print(int(a))"
   ]
  },
  {
   "cell_type": "code",
   "execution_count": 10,
   "metadata": {},
   "outputs": [
    {
     "output_type": "stream",
     "name": "stdout",
     "text": [
      "0.75\n"
     ]
    }
   ],
   "source": [
    "operator = int(input())\n",
    "a = int(input())\n",
    "b = int(input())\n",
    "\n",
    "\n",
    "if operator == 1:\n",
    "    print(a+b)\n",
    "elif operator == 2:\n",
    "    print(a - b)\n",
    "\n",
    "elif operator ==3:\n",
    "    print(a*b)\n",
    "\n",
    "elif operator ==4:\n",
    "    print(a/b)\n",
    "\n",
    "elif operator ==5:\n",
    "    print(a%b)\n",
    "\n",
    "elif operator ==6:\n",
    "    pass\n",
    "   \n",
    "\n",
    "else:\n",
    "    print(\"Invalid\")"
   ]
  },
  {
   "cell_type": "code",
   "execution_count": 11,
   "metadata": {},
   "outputs": [
    {
     "output_type": "execute_result",
     "data": {
      "text/plain": [
       "2"
      ]
     },
     "metadata": {},
     "execution_count": 11
    }
   ],
   "source": [
    "4562%10"
   ]
  },
  {
   "cell_type": "code",
   "execution_count": 12,
   "metadata": {},
   "outputs": [
    {
     "output_type": "execute_result",
     "data": {
      "text/plain": [
       "456.2"
      ]
     },
     "metadata": {},
     "execution_count": 12
    }
   ],
   "source": [
    "4562/10"
   ]
  },
  {
   "cell_type": "code",
   "execution_count": 13,
   "metadata": {},
   "outputs": [
    {
     "output_type": "execute_result",
     "data": {
      "text/plain": [
       "0"
      ]
     },
     "metadata": {},
     "execution_count": 13
    }
   ],
   "source": [
    "1//10"
   ]
  },
  {
   "cell_type": "code",
   "execution_count": 20,
   "metadata": {},
   "outputs": [],
   "source": [
    "def checkReverse(n):\n",
    "    rev = 0\n",
    "    while(n > 0): \n",
    "    \ta = n % 10\n",
    "    \trev = rev * 10 + a \n",
    "    \tn = n // 10\n",
    "    return(rev)\n"
   ]
  },
  {
   "cell_type": "code",
   "execution_count": 21,
   "metadata": {},
   "outputs": [
    {
     "output_type": "execute_result",
     "data": {
      "text/plain": [
       "121"
      ]
     },
     "metadata": {},
     "execution_count": 21
    }
   ],
   "source": [
    "checkReverse(121)"
   ]
  },
  {
   "cell_type": "code",
   "execution_count": 22,
   "metadata": {},
   "outputs": [
    {
     "output_type": "execute_result",
     "data": {
      "text/plain": [
       "-3"
      ]
     },
     "metadata": {},
     "execution_count": 22
    }
   ],
   "source": [
    "int(0-3)"
   ]
  },
  {
   "cell_type": "code",
   "execution_count": 24,
   "metadata": {},
   "outputs": [
    {
     "output_type": "stream",
     "name": "stdout",
     "text": [
      "2\n"
     ]
    },
    {
     "output_type": "error",
     "ename": "ValueError",
     "evalue": "invalid literal for int() with base 10: ''",
     "traceback": [
      "\u001b[0;31m---------------------------------------------------------------------------\u001b[0m",
      "\u001b[0;31mValueError\u001b[0m                                Traceback (most recent call last)",
      "\u001b[0;32m<ipython-input-24-0c0a0f65a1ef>\u001b[0m in \u001b[0;36m<module>\u001b[0;34m\u001b[0m\n\u001b[1;32m      2\u001b[0m \u001b[0;32mif\u001b[0m \u001b[0mchoice\u001b[0m \u001b[0;34m>\u001b[0m \u001b[0;36m0\u001b[0m \u001b[0;32mand\u001b[0m \u001b[0mchoice\u001b[0m \u001b[0;34m<=\u001b[0m\u001b[0;36m6\u001b[0m\u001b[0;34m:\u001b[0m\u001b[0;34m\u001b[0m\u001b[0;34m\u001b[0m\u001b[0m\n\u001b[1;32m      3\u001b[0m     \u001b[0;32mwhile\u001b[0m\u001b[0;34m(\u001b[0m\u001b[0mchoice\u001b[0m \u001b[0;34m<=\u001b[0m \u001b[0;36m7\u001b[0m\u001b[0;34m)\u001b[0m\u001b[0;34m:\u001b[0m\u001b[0;34m\u001b[0m\u001b[0;34m\u001b[0m\u001b[0m\n\u001b[0;32m----> 4\u001b[0;31m         \u001b[0ma\u001b[0m \u001b[0;34m=\u001b[0m \u001b[0mint\u001b[0m\u001b[0;34m(\u001b[0m\u001b[0minput\u001b[0m\u001b[0;34m(\u001b[0m\u001b[0;34m)\u001b[0m\u001b[0;34m)\u001b[0m\u001b[0;34m\u001b[0m\u001b[0;34m\u001b[0m\u001b[0m\n\u001b[0m\u001b[1;32m      5\u001b[0m         \u001b[0mb\u001b[0m \u001b[0;34m=\u001b[0m \u001b[0mint\u001b[0m\u001b[0;34m(\u001b[0m\u001b[0minput\u001b[0m\u001b[0;34m(\u001b[0m\u001b[0;34m)\u001b[0m\u001b[0;34m)\u001b[0m\u001b[0;34m\u001b[0m\u001b[0;34m\u001b[0m\u001b[0m\n\u001b[1;32m      6\u001b[0m         \u001b[0;32mif\u001b[0m \u001b[0mchoice\u001b[0m \u001b[0;34m==\u001b[0m \u001b[0;36m1\u001b[0m\u001b[0;34m:\u001b[0m\u001b[0;34m\u001b[0m\u001b[0;34m\u001b[0m\u001b[0m\n",
      "\u001b[0;31mValueError\u001b[0m: invalid literal for int() with base 10: ''"
     ]
    }
   ],
   "source": [
    "choice = int(input())\n",
    "if choice > 0 and choice <=6:\n",
    "    while(choice <= 7):\n",
    "        a = int(input())\n",
    "        b = int(input())\n",
    "        if choice == 1:\n",
    "            print(a+b)\n",
    "        elif choice == 2:\n",
    "            print(a-b)\n",
    "        elif choice == 3:\n",
    "            print(a*b)\n",
    "        elif choice == 4:\n",
    "            print(a//b)\n",
    "        elif choice == 5:\n",
    "            print(a%b)\n",
    "        elif choice == 6:\n",
    "            choice = int(input())\n",
    "\n",
    "else:\n",
    "    print(\"Invalid\")\n"
   ]
  },
  {
   "cell_type": "code",
   "execution_count": 31,
   "metadata": {
    "tags": []
   },
   "outputs": [],
   "source": [
    "choice = int(input())\n",
    "a = int(input())\n",
    "b = int(input())\n",
    "while choice !=6:\n",
    "    # if choice > 0 and choice <=6:   \n",
    "    if choice == 1:\n",
    "        print(a+b)\n",
    "    if choice == 2:\n",
    "        print(a-b)\n",
    "    if choice == 3:\n",
    "        print(a*b)\n",
    "    if choice == 4:\n",
    "        print(a//b)\n",
    "    if choice == 5:\n",
    "        print(a%b)\n",
    "    if choice == 6:\n",
    "        choice = int(input())\n",
    "        if choice < 7:\n",
    "            a = int(input())    \n",
    "            b = int(input())\n",
    "        else:\n",
    "            print(\"Invalid\")\n",
    "            break\n",
    "    # break\n",
    "        \n"
   ]
  },
  {
   "cell_type": "code",
   "execution_count": 27,
   "metadata": {},
   "outputs": [
    {
     "output_type": "stream",
     "name": "stdout",
     "text": [
      "2\n"
     ]
    }
   ],
   "source": [
    "i = 0\n",
    "for i in range(10):\n",
    "    if i==2:\n",
    "        print(i)\n",
    "        break"
   ]
  },
  {
   "cell_type": "code",
   "execution_count": 1,
   "metadata": {},
   "outputs": [
    {
     "output_type": "stream",
     "name": "stdout",
     "text": [
      "2\n",
      "16\n"
     ]
    },
    {
     "output_type": "error",
     "ename": "ValueError",
     "evalue": "invalid literal for int() with base 10: ''",
     "traceback": [
      "\u001b[0;31m---------------------------------------------------------------------------\u001b[0m",
      "\u001b[0;31mValueError\u001b[0m                                Traceback (most recent call last)",
      "\u001b[0;32m<ipython-input-1-3edf9f1401f0>\u001b[0m in \u001b[0;36m<module>\u001b[0;34m\u001b[0m\n\u001b[1;32m      2\u001b[0m \u001b[0;32mwhile\u001b[0m \u001b[0mchoice\u001b[0m\u001b[0;34m!=\u001b[0m\u001b[0;36m6\u001b[0m\u001b[0;34m:\u001b[0m\u001b[0;34m\u001b[0m\u001b[0;34m\u001b[0m\u001b[0m\n\u001b[1;32m      3\u001b[0m     \u001b[0;32mif\u001b[0m \u001b[0mchoice\u001b[0m \u001b[0;34m>\u001b[0m \u001b[0;36m0\u001b[0m \u001b[0;32mand\u001b[0m \u001b[0mchoice\u001b[0m \u001b[0;34m<\u001b[0m \u001b[0;36m6\u001b[0m \u001b[0;34m:\u001b[0m\u001b[0;34m\u001b[0m\u001b[0;34m\u001b[0m\u001b[0m\n\u001b[0;32m----> 4\u001b[0;31m         \u001b[0ma\u001b[0m \u001b[0;34m=\u001b[0m \u001b[0mint\u001b[0m\u001b[0;34m(\u001b[0m\u001b[0minput\u001b[0m\u001b[0;34m(\u001b[0m\u001b[0;34m)\u001b[0m\u001b[0;34m)\u001b[0m\u001b[0;34m\u001b[0m\u001b[0;34m\u001b[0m\u001b[0m\n\u001b[0m\u001b[1;32m      5\u001b[0m         \u001b[0mb\u001b[0m \u001b[0;34m=\u001b[0m \u001b[0mint\u001b[0m\u001b[0;34m(\u001b[0m\u001b[0minput\u001b[0m\u001b[0;34m(\u001b[0m\u001b[0;34m)\u001b[0m\u001b[0;34m)\u001b[0m\u001b[0;34m\u001b[0m\u001b[0;34m\u001b[0m\u001b[0m\n\u001b[1;32m      6\u001b[0m         \u001b[0;32mif\u001b[0m \u001b[0mchoice\u001b[0m \u001b[0;34m==\u001b[0m \u001b[0;36m1\u001b[0m\u001b[0;34m:\u001b[0m\u001b[0;34m\u001b[0m\u001b[0;34m\u001b[0m\u001b[0m\n",
      "\u001b[0;31mValueError\u001b[0m: invalid literal for int() with base 10: ''"
     ]
    }
   ],
   "source": [
    "choice = int(input())\n",
    "while choice!=6:\n",
    "    \n",
    "    if choice > 0 and choice < 6 :\n",
    "        a = int(input())\n",
    "        b = int(input())\n",
    "        if choice == 1:\n",
    "            print(a+b)\n",
    "        if choice == 2:\n",
    "            print(a-b)\n",
    "        if choice == 3:\n",
    "            print(a*b)\n",
    "        if choice == 4:\n",
    "            print(a//b)\n",
    "        if choice == 5:\n",
    "            print(a%b)\n",
    "        new_choice = int(input())\n",
    "        choice = new_choice\n",
    "\n",
    "    elif choice == 6:\n",
    "        pass\n",
    "\n",
    "    else:\n",
    "        print(\"Invalid\")\n",
    "        break"
   ]
  },
  {
   "cell_type": "code",
   "execution_count": 9,
   "metadata": {},
   "outputs": [
    {
     "output_type": "execute_result",
     "data": {
      "text/plain": [
       "[0, 1, 1, 2, 3, 5, 8, 13, 21, 34, 55]"
      ]
     },
     "metadata": {},
     "execution_count": 9
    }
   ],
   "source": [
    "# 0, 1, 1, 2, 3, 5, 8, 13, 21, 34, 55, 89,\n",
    "fib_arr = [0,1]\n",
    "n = int(input())\n",
    "for i in range (2,n+1):\n",
    "    tmp = fib_arr[i-1]+fib_arr[i-2]\n",
    "    fib_arr.append(tmp)\n",
    "    # tmp = fib_arr[i-1]\n",
    "fib_arr"
   ]
  },
  {
   "cell_type": "code",
   "execution_count": 2,
   "metadata": {},
   "outputs": [
    {
     "output_type": "stream",
     "name": "stdout",
     "text": [
      "12451245"
     ]
    }
   ],
   "source": [
    "i=1\n",
    "while i<3:\n",
    "    j=0\n",
    "    while j<5:\n",
    "        j = j +1\n",
    "        if j==3:\n",
    "            continue\n",
    "        print(j,end=\"\")\n",
    "    i = i +1"
   ]
  },
  {
   "cell_type": "code",
   "execution_count": 10,
   "metadata": {},
   "outputs": [
    {
     "output_type": "stream",
     "name": "stdout",
     "text": [
      "1111\n000\n11\n0\n"
     ]
    }
   ],
   "source": [
    "n = 4\n",
    "for i in range(1,n+1):\n",
    "    if i%2==0:\n",
    "        print(\"0\"*(n-i+1),end=\"\")\n",
    "    else:\n",
    "        print(\"1\"*(n-i+1),end=\"\")\n",
    "    print()"
   ]
  },
  {
   "source": [],
   "cell_type": "markdown",
   "metadata": {}
  },
  {
   "cell_type": "code",
   "execution_count": 23,
   "metadata": {},
   "outputs": [
    {
     "output_type": "stream",
     "name": "stdout",
     "text": [
      "123 2     "
     ]
    }
   ],
   "source": [
    "n = 4\n",
    "for i in range(1,n+1):\n",
    "    print(\" \"*(i-1),end=\"\")\n",
    "    # print(\"-->\",i)\n",
    "    for j in range(i,n-i):\n",
    "        print(j,end=\"\")"
   ]
  },
  {
   "cell_type": "code",
   "execution_count": 50,
   "metadata": {},
   "outputs": [
    {
     "output_type": "stream",
     "name": "stdout",
     "text": [
      "1234\n 234\n  34\n   4\n   4\n  34\n 234\n1234\n"
     ]
    }
   ],
   "source": [
    "for i in range(1,n+1):\n",
    "    print(\" \"*(i-1),end=\"\")\n",
    "    for j in (range(i,n+1)):\n",
    "        print(j,end=\"\")\n",
    "    print()\n",
    "\n",
    "for i in range(n, 0, -1):\n",
    "    print(\" \"*(i-1),end=\"\")\n",
    "    # j = n\n",
    "    for j in range(i,n+1):\n",
    "        print(j,end=\"\")\n",
    "    print()"
   ]
  },
  {
   "cell_type": "code",
   "execution_count": 53,
   "metadata": {},
   "outputs": [
    {
     "output_type": "stream",
     "name": "stdout",
     "text": [
      "1234\n 234\n  34\n   4\n  34\n 234\n1234\n"
     ]
    }
   ],
   "source": [
    "n = int(input())\n",
    "for i in range(1,n+1):\n",
    "    print(\" \"*(i-1),end=\"\")\n",
    "    for j in (range(i,n+1)):\n",
    "        print(j,end=\"\")\n",
    "    print()\n",
    "\n",
    "for i in range(n-1, 0, -1):\n",
    "    print(\" \"*(i-1),end=\"\")\n",
    "    for j in range(i,n+1):\n",
    "        print(j,end=\"\")\n",
    "    print()"
   ]
  },
  {
   "cell_type": "code",
   "execution_count": 97,
   "metadata": {},
   "outputs": [
    {
     "output_type": "stream",
     "name": "stdout",
     "text": [
      "4444444\n4     4\n4     4\n4     4\n4     4\n4     4\n4444444\n"
     ]
    }
   ],
   "source": [
    "n = 7\n",
    "for i in range(1,n+1):\n",
    "    if i%7 ==0 or i==1:\n",
    "        print(\"4\"*n,end=\"\")\n",
    "    else:   \n",
    "        print(\"4\",end=\"\")\n",
    "        print(\" \"*(n-2)+\"4\",end=\"\")\n",
    "    print()\n"
   ]
  },
  {
   "cell_type": "code",
   "execution_count": 98,
   "metadata": {},
   "outputs": [
    {
     "output_type": "stream",
     "name": "stdout",
     "text": [
      "33333\n3   3\n3   3\n3   3\n33333\n"
     ]
    }
   ],
   "source": [
    "n = 5\n",
    "for i in range(1,n+1):\n",
    "    if i%n ==0 or i==1:\n",
    "        print(\"3\"*n,end=\"\")\n",
    "    else:   \n",
    "        print(\"3\",end=\"\")\n",
    "        print(\" \"*(n-2)+\"3\",end=\"\")\n",
    "    print()"
   ]
  },
  {
   "cell_type": "code",
   "execution_count": 102,
   "metadata": {},
   "outputs": [
    {
     "output_type": "stream",
     "name": "stdout",
     "text": [
      "222\n212\n222\n"
     ]
    }
   ],
   "source": [
    "n = 3\n",
    "for i in range(1,n+1):\n",
    "    if i%n ==0 or i==1:\n",
    "        print(\"2\"*n,end=\"\")\n",
    "    elif i%2==0:\n",
    "        print(str(n-1)+\"1\"+str(n-1),end=\"\")\n",
    "    else:   \n",
    "        print(\"2\",end=\"\")\n",
    "        print(\" \"*(n-2)+\"2\",end=\"\")\n",
    "    print()"
   ]
  },
  {
   "cell_type": "code",
   "execution_count": 163,
   "metadata": {},
   "outputs": [
    {
     "output_type": "stream",
     "name": "stdout",
     "text": [
      "4444444\n4     4333333\n4     4\n4     4\n4     4\n4     4333333\n4444444\n"
     ]
    }
   ],
   "source": [
    "n = 7\n",
    "for i in range(1,n+1):\n",
    "    if i==1 or i==n:\n",
    "        print(\"4\"*n,end=\"\")\n",
    "    else:   \n",
    "        print(\"4\",end=\"\")\n",
    "        print(\" \"*(n-2)+\"4\",end=\"\")\n",
    "    # print()\n",
    "    if i == 2 or i == n-1:\n",
    "        # pass\n",
    "        print(\"3\"*(n-1),end=\"\")\n",
    "    print()\n",
    "\n"
   ]
  },
  {
   "cell_type": "code",
   "execution_count": 165,
   "metadata": {},
   "outputs": [
    {
     "output_type": "stream",
     "name": "stdout",
     "text": [
      "3 3 3 3 3 \n3 2 2 2 3 \n3 2 1 2 3 \n3 2 1 2 3 \n3 2 2 2 3 \n3 3 3 3 3 \n"
     ]
    }
   ],
   "source": [
    "def printPattern(n) : \n",
    "  \n",
    "    # number of rows and columns to be printed  \n",
    "    s = 2 * n - 1\n",
    "  \n",
    "    # Upper Half  \n",
    "    for i in range(0, int(s / 2) + 1):  \n",
    "          \n",
    "        m = n  \n",
    "  \n",
    "        # Decreasing part  \n",
    "        for j in range(0, i):  \n",
    "            print(m ,end= \" \" ) \n",
    "            m-=1\n",
    "          \n",
    "        # Conatsant Part  \n",
    "        for k in range(0, s - 2 * i): \n",
    "            print(n-i ,end= \" \" ) \n",
    "          \n",
    "        # Increasing part.  \n",
    "        m = n - i + 1\n",
    "        for l in range(0, i):  \n",
    "            print(m ,end= \" \" )  \n",
    "            m+=1\n",
    "          \n",
    "        print(\"\")  \n",
    "      \n",
    "    # Lower Half  \n",
    "    for i in range(int(s / 2),-1,-1):  \n",
    "  \n",
    "        # Decreasing Part  \n",
    "        m = n  \n",
    "        for j in range(0, i): \n",
    "            print(m ,end= \" \" ) \n",
    "            m-=1\n",
    "          \n",
    "  \n",
    "        # Constant Part.  \n",
    "        for k in range(0, s - 2 * i): \n",
    "            print(n-i ,end= \" \" ) \n",
    "          \n",
    "  \n",
    "        # Decreasing Part  \n",
    "        m = n - i + 1\n",
    "        for l in range(0, i):  \n",
    "            print(m ,end= \" \" )  \n",
    "            m+=1\n",
    "          \n",
    "        print(\"\")  \n",
    "      \n",
    "# Driven Program  \n",
    "if __name__=='__main__': \n",
    "    n = 3\n",
    "    printPattern(n)"
   ]
  },
  {
   "cell_type": "code",
   "execution_count": 171,
   "metadata": {},
   "outputs": [
    {
     "output_type": "stream",
     "name": "stdout",
     "text": [
      "4 4 4 4 4 4 4 \n4 3 3 3 3 3 4 \n4 3 2 2 2 3 4 \n4 3 2 1 2 3 4 \n"
     ]
    }
   ],
   "source": [
    "n = 4\n",
    "s = 2 * n - 1\n",
    "\n",
    "# Upper Half  \n",
    "for i in range(0, int(s / 2) + 1):  \n",
    "        \n",
    "    m = n  \n",
    "\n",
    "    # Decreasing part  \n",
    "    for j in range(0, i):  \n",
    "        print(m ,end= \" \" ) \n",
    "        m-=1\n",
    "\n",
    "        # Conatsant Part  \n",
    "    for k in range(0, s - 2 * i): \n",
    "        print(n-i ,end= \" \" ) \n",
    "        \n",
    "    # Increasing part.  \n",
    "    m = n - i + 1\n",
    "    for l in range(0, i):  \n",
    "        print(m ,end= \" \" )  \n",
    "        m+=1\n",
    "        \n",
    "    print(\"\")  "
   ]
  },
  {
   "cell_type": "code",
   "execution_count": 235,
   "metadata": {},
   "outputs": [
    {
     "output_type": "stream",
     "name": "stdout",
     "text": [
      "1 2 3 4 5 \n6 7 8 9 10 \n11 12 13 14 15 \n"
     ]
    }
   ],
   "source": [
    "n = 4\n",
    "j = 1\n",
    "\n",
    "for i in range(1,n+2, 2):\n",
    "    # print(\"---->\",i)\n",
    "    c = n+1\n",
    "    while c > 0:\n",
    "        print(j,end=\" \")\n",
    "        j += 1\n",
    "        c -= 1\n",
    "    # c = 0\n",
    "    print()\n"
   ]
  },
  {
   "cell_type": "code",
   "execution_count": 241,
   "metadata": {},
   "outputs": [
    {
     "output_type": "stream",
     "name": "stdout",
     "text": [
      "N1 =  2\nN2 =  2\n"
     ]
    }
   ],
   "source": [
    "n = int(input())\n",
    "if n%2!=0:\n",
    "    n1= (n+1)//2\n",
    "    n2 = n - n1\n",
    "else:\n",
    "    n1 = n//2\n",
    "    n2 = n - n1\n",
    "\n",
    "print(\"N1 = \",n1)\n",
    "print(\"N2 = \",n2)"
   ]
  },
  {
   "cell_type": "code",
   "execution_count": 238,
   "metadata": {},
   "outputs": [],
   "source": [
    "# n1 = odd LOOP count\n",
    "# n2 = even LOOP count"
   ]
  },
  {
   "cell_type": "code",
   "execution_count": 250,
   "metadata": {},
   "outputs": [
    {
     "output_type": "stream",
     "name": "stdout",
     "text": [
      "1 2 3 4 \n9 10 11 12 \n13 14 15 16 \n5 6 7 8 \n"
     ]
    }
   ],
   "source": [
    "n = int(input())\n",
    "if n%2!=0:\n",
    "    n1= (n+1)//2\n",
    "    n2 = n - n1\n",
    "else:\n",
    "    n1 = n//2\n",
    "    n2 = n - n1\n",
    "\n",
    "# print(\"N1 = \",n1)\n",
    "# print(\"N2 = \",n2)\n",
    "# PRINTING ODD LOOPS\n",
    "j = 1\n",
    "for i in range(n1):    \n",
    "    c = n\n",
    "    \n",
    "    while c > 0:\n",
    "        # j = j - 1\n",
    "        print(j,end=\" \")\n",
    "        j += 1\n",
    "        c -= 1\n",
    "    j = j + n\n",
    "    print()\n",
    "\n",
    "# PRINTING EVEN LOOPS\n",
    "j = 1\n",
    "j = n*3 + 1\n",
    "# print(\"----\",j)\n",
    "for i in range(n2, -1,-2):\n",
    "    \n",
    "    c = n\n",
    "    while c > 0:\n",
    "        print(j,end=\" \")\n",
    "        c -= 1\n",
    "        j += 1\n",
    "    j = j - n*3\n",
    "    print()"
   ]
  },
  {
   "cell_type": "code",
   "execution_count": null,
   "metadata": {},
   "outputs": [],
   "source": []
  }
 ]
}