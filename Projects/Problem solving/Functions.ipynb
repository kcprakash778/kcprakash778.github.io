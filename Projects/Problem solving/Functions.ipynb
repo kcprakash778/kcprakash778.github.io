{
 "metadata": {
  "language_info": {
   "codemirror_mode": {
    "name": "ipython",
    "version": 3
   },
   "file_extension": ".py",
   "mimetype": "text/x-python",
   "name": "python",
   "nbconvert_exporter": "python",
   "pygments_lexer": "ipython3",
   "version": "3.8.0-final"
  },
  "orig_nbformat": 2,
  "kernelspec": {
   "name": "python3",
   "display_name": "Python 3",
   "language": "python"
  }
 },
 "nbformat": 4,
 "nbformat_minor": 2,
 "cells": [
  {
   "cell_type": "code",
   "execution_count": 16,
   "metadata": {},
   "outputs": [
    {
     "output_type": "stream",
     "name": "stdout",
     "text": [
      "0 \t -17\n2 \t -16\n4 \t -15\n6 \t -14\n8 \t -13\n10 \t -12\n12 \t -11\n14 \t -10\n16 \t -8\n18 \t -7\n20 \t -6\n"
     ]
    }
   ],
   "source": [
    "def printTable(start,end,step):\n",
    "    while start<=end:\n",
    "        celsius = int((5/9)*(start-32))\n",
    "        print(start,\"\\t\",celsius)\n",
    "        start = start + step\n",
    "\t \n",
    "\n",
    "\t   \n",
    "s = int(input())\n",
    "e = int(input())\n",
    "step = int(input())\n",
    "printTable(s,e,step)"
   ]
  },
  {
   "cell_type": "code",
   "execution_count": 18,
   "metadata": {},
   "outputs": [
    {
     "output_type": "stream",
     "name": "stdout",
     "text": [
      "false\n"
     ]
    }
   ],
   "source": [
    "def checkMember(n):\n",
    "    fib_arr = [0,1]\n",
    "\n",
    "    for i in range (2,n+1):\n",
    "        tmp = fib_arr[i-1]+fib_arr[i-2]\n",
    "        fib_arr.append(tmp)\n",
    "    \n",
    "    for x in fib_arr:\n",
    "        if x == n:\n",
    "            return True\n",
    "        else:\n",
    "            return False\n",
    "\n",
    "\n",
    "n=int(input())\n",
    "if(checkMember(n)):\n",
    "    print(\"true\")\n",
    "else:\n",
    "    print(\"false\")"
   ]
  },
  {
   "cell_type": "code",
   "execution_count": 21,
   "metadata": {},
   "outputs": [
    {
     "output_type": "stream",
     "name": "stdout",
     "text": [
      "[0, 1, 1, 2, 3, 5]\n"
     ]
    }
   ],
   "source": [
    " n = 5\n",
    " fib_arr = [0,1]\n",
    "\n",
    "for i in range (2,n+1):\n",
    "    tmp = fib_arr[i-1]+fib_arr[i-2]\n",
    "    fib_arr.append(tmp)\n",
    "\n",
    "print(fib_arr)"
   ]
  },
  {
   "cell_type": "code",
   "execution_count": 22,
   "metadata": {},
   "outputs": [
    {
     "output_type": "stream",
     "name": "stdout",
     "text": [
      "false\nfalse\nfalse\nfalse\nfalse\ntrue\n"
     ]
    }
   ],
   "source": [
    "check_num = 5\n",
    "for l in fib_arr:\n",
    "    if check_num==l:\n",
    "        print(\"true\")\n",
    "    else:\n",
    "        print(\"false\")"
   ]
  },
  {
   "cell_type": "code",
   "execution_count": 26,
   "metadata": {},
   "outputs": [
    {
     "output_type": "execute_result",
     "data": {
      "text/plain": [
       "True"
      ]
     },
     "metadata": {},
     "execution_count": 26
    }
   ],
   "source": [
    "check_num in fib_arr"
   ]
  },
  {
   "cell_type": "code",
   "execution_count": 28,
   "metadata": {},
   "outputs": [
    {
     "output_type": "stream",
     "name": "stdout",
     "text": [
      "true\n"
     ]
    }
   ],
   "source": [
    "def checkPalindrome(n):\n",
    "    rev = 0\n",
    "    while(n > 0): \n",
    "    \ta = n % 10\n",
    "    \trev = rev * 10 + a \n",
    "    \tn = n // 10\n",
    "    return rev == num\n",
    "#Implement Your Code Here\n",
    "\t# pass\n",
    "\t\t\n",
    "num = int(input())\n",
    "isPalindrome = checkPalindrome(num)\n",
    "if(isPalindrome):\n",
    "\tprint('true')\n",
    "else:\n",
    "\tprint('false')\n"
   ]
  },
  {
   "cell_type": "code",
   "execution_count": 49,
   "metadata": {},
   "outputs": [],
   "source": [
    "def armstrong(n):\n",
    "    num_string = str(n)\n",
    "    s = 0\n",
    "    for i in range(len(num_string)):\n",
    "        num = int(num_string[i])\n",
    "        s = s + (num**len(str(n)))\n",
    "    \n",
    "    print(s)"
   ]
  },
  {
   "cell_type": "code",
   "execution_count": 50,
   "metadata": {},
   "outputs": [
    {
     "output_type": "stream",
     "name": "stdout",
     "text": [
      "371\n"
     ]
    }
   ],
   "source": [
    "armstrong(371)"
   ]
  },
  {
   "cell_type": "code",
   "execution_count": 53,
   "metadata": {},
   "outputs": [
    {
     "output_type": "stream",
     "name": "stdout",
     "text": [
      "6\n"
     ]
    }
   ],
   "source": [
    "ls = [1,2,3]\n",
    "print(sum(ls))"
   ]
  },
  {
   "cell_type": "code",
   "execution_count": 58,
   "metadata": {},
   "outputs": [
    {
     "output_type": "stream",
     "name": "stdout",
     "text": [
      "26\n"
     ]
    }
   ],
   "source": [
    "size = int(input())\n",
    "ls = list(map(int, input(\"Enter a multiple value: \").split()))\n",
    "ls = ls[:size]\n",
    "print(sum(ls))"
   ]
  },
  {
   "cell_type": "code",
   "execution_count": null,
   "metadata": {},
   "outputs": [],
   "source": []
  }
 ]
}