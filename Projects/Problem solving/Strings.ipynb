{
 "metadata": {
  "language_info": {
   "codemirror_mode": {
    "name": "ipython",
    "version": 3
   },
   "file_extension": ".py",
   "mimetype": "text/x-python",
   "name": "python",
   "nbconvert_exporter": "python",
   "pygments_lexer": "ipython3",
   "version": "3.8.0-final"
  },
  "orig_nbformat": 2,
  "kernelspec": {
   "name": "python3",
   "display_name": "Python 3",
   "language": "python"
  }
 },
 "nbformat": 4,
 "nbformat_minor": 2,
 "cells": [
  {
   "cell_type": "code",
   "execution_count": 1,
   "metadata": {},
   "outputs": [
    {
     "output_type": "execute_result",
     "data": {
      "text/plain": [
       "True"
      ]
     },
     "metadata": {},
     "execution_count": 1
    }
   ],
   "source": [
    "a = \"mam\"\n",
    "a == a[::-1]"
   ]
  },
  {
   "cell_type": "code",
   "execution_count": 2,
   "metadata": {},
   "outputs": [
    {
     "output_type": "execute_result",
     "data": {
      "text/plain": [
       "True"
      ]
     },
     "metadata": {},
     "execution_count": 2
    }
   ],
   "source": [
    "a = \"abce\" >= \"abcdef\"\n",
    "a"
   ]
  },
  {
   "source": [
    "### Problems"
   ],
   "cell_type": "markdown",
   "metadata": {}
  },
  {
   "source": [
    "Permutation of strings"
   ],
   "cell_type": "markdown",
   "metadata": {}
  },
  {
   "cell_type": "code",
   "execution_count": 18,
   "metadata": {},
   "outputs": [
    {
     "output_type": "stream",
     "name": "stdout",
     "text": [
      "True\n"
     ]
    }
   ],
   "source": [
    "s1 = 'cba'\n",
    "s2 = 'bca'\n",
    "\n",
    "def isPermutation(string1, string2):\n",
    "    sample_li = [0]*256\n",
    "    li = [0]*256\n",
    "    if len(string1)==len(string2):\n",
    "        for i in string1:\n",
    "            li[ord(i)] += 1\n",
    "        for i in string2:\n",
    "            li[ord(i)] -= 1\n",
    "        \n",
    "        if li == sample_li:\n",
    "            return True\n",
    "        else:\n",
    "            return False\n",
    "\n",
    "    else:\n",
    "        return False\n",
    "\n",
    "print(isPermutation(s1,s2))"
   ]
  },
  {
   "source": [
    " Remove Consecutive Duplicates "
   ],
   "cell_type": "markdown",
   "metadata": {}
  },
  {
   "cell_type": "code",
   "execution_count": null,
   "metadata": {},
   "outputs": [],
   "source": [
    "def removeConsecutiveDuplicates(s): \n",
    "\t\t\n",
    "    chars = list(s)\n",
    "    prev = None\n",
    "    k = 0\n",
    "    for c in s:\n",
    "        if prev != c:\n",
    "            chars[k] = c\n",
    "            prev = c\n",
    "            k = k + 1\n",
    "\n",
    "    return ''.join(chars[:k])"
   ]
  },
  {
   "source": [
    "Reverse each word"
   ],
   "cell_type": "markdown",
   "metadata": {}
  },
  {
   "cell_type": "code",
   "execution_count": 76,
   "metadata": {},
   "outputs": [
    {
     "output_type": "execute_result",
     "data": {
      "text/plain": [
       "'etaerC gnihtemos lufituaeb '"
      ]
     },
     "metadata": {},
     "execution_count": 76
    }
   ],
   "source": [
    "s = \"Create something beautiful\"\n",
    "n = len(s)\n",
    "ls = s.split()\n",
    "new_str = \"\"\n",
    "for i in ls:\n",
    "    new_str = new_str + i[::-1] + \" \"\n",
    "\n",
    "new_str"
   ]
  },
  {
   "source": [
    "Highest occuring characters"
   ],
   "cell_type": "markdown",
   "metadata": {}
  },
  {
   "cell_type": "code",
   "execution_count": 3,
   "metadata": {},
   "outputs": [
    {
     "output_type": "stream",
     "name": "stdout",
     "text": [
      "b\n"
     ]
    }
   ],
   "source": [
    "s = \"abdefgbabfba\"\n",
    "n = len(s)\n",
    "li = [0]*256\n",
    "for i in s:\n",
    "    li[ord(i)] += 1\n",
    "\n",
    "tmp = 0\n",
    "ind = 0\n",
    "for i,j in enumerate(li):\n",
    "    if j > tmp:\n",
    "        tmp = j\n",
    "        ind = i\n",
    "\n",
    "print(chr(ind))\n"
   ]
  },
  {
   "source": [
    " Compress the String "
   ],
   "cell_type": "markdown",
   "metadata": {}
  },
  {
   "cell_type": "code",
   "execution_count": 6,
   "metadata": {
    "tags": []
   },
   "outputs": [
    {
     "output_type": "stream",
     "name": "stdout",
     "text": [
      "a3b2c1d2e5\n"
     ]
    }
   ],
   "source": [
    "string = \"aaabbcddeeeee\"\n",
    "\n",
    "\n",
    "\n",
    "\n",
    "def removeConsecutiveDuplicates(s): \n",
    "\t\t\n",
    "    chars = list(s)\n",
    "    prev = None\n",
    "    k = 0\n",
    "    for c in s:\n",
    "        if prev != c:\n",
    "            chars[k] = c\n",
    "            prev = c\n",
    "            k = k + 1\n",
    "\n",
    "    return ''.join(chars[:k])\n",
    "\n",
    "\n",
    "processed_string = removeConsecutiveDuplicates(string)\n",
    "\n",
    "new_string = \"\"\n",
    "\n",
    "try:\n",
    "    c = 0\n",
    "    for i,j in enumerate(li):\n",
    "        # print(li)\n",
    "        if i == ord(processed_string[c]):\n",
    "            new_string = new_string + processed_string[c] + str(j)\n",
    "            c += 1\n",
    "\n",
    "except IndexError:\n",
    "    pass\n",
    "\n",
    "return new_string"
   ]
  },
  {
   "cell_type": "code",
   "execution_count": 3,
   "metadata": {},
   "outputs": [
    {
     "output_type": "execute_result",
     "data": {
      "text/plain": [
       "98"
      ]
     },
     "metadata": {},
     "execution_count": 3
    }
   ],
   "source": [
    "ord(processed_string[1])"
   ]
  },
  {
   "cell_type": "code",
   "execution_count": 7,
   "metadata": {},
   "outputs": [
    {
     "output_type": "stream",
     "name": "stdout",
     "text": [
      "a3b2c2dsa"
     ]
    }
   ],
   "source": [
    "def highest(str):    \n",
    "    str1=[]\n",
    "    count=0\n",
    "    for i in range(len(str)-1):\n",
    "        if(str[i]==str[i+1]):\n",
    "            count+=1\n",
    "        elif(str[i]!=str[i+1] and count>0):\n",
    "            str1.append(str[i])\n",
    "            str1.append(count+1)\n",
    "            count = 0\n",
    "        else:\n",
    "            str1.append(str[i])\n",
    "    if count>0:\n",
    "        str1.append(str[len(str)-1])\n",
    "        str1.append(count+1)\n",
    "    else:\n",
    "        str1.append(str[len(str)-1])\n",
    "    for ele in str1:\n",
    "        if ele:\n",
    "        \tprint(ele,end=\"\")\n",
    "\n",
    "str=input()\n",
    "highest(str)"
   ]
  },
  {
   "cell_type": "code",
   "execution_count": null,
   "metadata": {},
   "outputs": [],
   "source": []
  }
 ]
}