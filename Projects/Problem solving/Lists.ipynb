{
 "metadata": {
  "language_info": {
   "codemirror_mode": {
    "name": "ipython",
    "version": 3
   },
   "file_extension": ".py",
   "mimetype": "text/x-python",
   "name": "python",
   "nbconvert_exporter": "python",
   "pygments_lexer": "ipython3",
   "version": "3.8.0-final"
  },
  "orig_nbformat": 2,
  "kernelspec": {
   "name": "python3",
   "display_name": "Python 3",
   "language": "python"
  }
 },
 "nbformat": 4,
 "nbformat_minor": 2,
 "cells": [
  {
   "cell_type": "code",
   "execution_count": 34,
   "metadata": {},
   "outputs": [],
   "source": [
    "arr = [9, 3, 6, 12, 4, 32]"
   ]
  },
  {
   "cell_type": "code",
   "execution_count": 35,
   "metadata": {},
   "outputs": [
    {
     "output_type": "execute_result",
     "data": {
      "text/plain": [
       "[9, 3, 6, 12, 4, 32]"
      ]
     },
     "metadata": {},
     "execution_count": 35
    }
   ],
   "source": [
    "arr"
   ]
  },
  {
   "cell_type": "code",
   "execution_count": 36,
   "metadata": {},
   "outputs": [
    {
     "output_type": "stream",
     "name": "stdout",
     "text": [
      "0 \t 9\n1 \t 3\n2 \t 6\n3 \t 12\n4 \t 4\n5 \t 32\n"
     ]
    }
   ],
   "source": [
    "for i,j in enumerate(arr):\n",
    "    print(i,\"\\t\",j)"
   ]
  },
  {
   "cell_type": "code",
   "execution_count": 54,
   "metadata": {},
   "outputs": [],
   "source": [
    "arr = [9, 3, 6, 12, 4, 32]"
   ]
  },
  {
   "cell_type": "code",
   "execution_count": 66,
   "metadata": {},
   "outputs": [],
   "source": [
    "arr = [1,2,3,4]"
   ]
  },
  {
   "cell_type": "code",
   "execution_count": 67,
   "metadata": {},
   "outputs": [],
   "source": [
    "c = 0\n",
    "try:\n",
    "    for i in range(0,len(arr)):\n",
    "        \n",
    "            if c <= len(arr):\n",
    "                arr[c],arr[c+1] = arr[c+1],arr[c]\n",
    "                # print(arr)\n",
    "                c = c + 2\n",
    "            else:\n",
    "                break\n",
    "except IndexError:\n",
    "    pass\n",
    "    # continue\n",
    "    # arr = \"null\"\n",
    "    # return None"
   ]
  },
  {
   "cell_type": "code",
   "execution_count": 68,
   "metadata": {},
   "outputs": [
    {
     "output_type": "execute_result",
     "data": {
      "text/plain": [
       "[2, 1, 4, 3]"
      ]
     },
     "metadata": {},
     "execution_count": 68
    }
   ],
   "source": [
    "arr"
   ]
  },
  {
   "source": [
    "### Finding duplicates"
   ],
   "cell_type": "markdown",
   "metadata": {}
  },
  {
   "cell_type": "code",
   "execution_count": 38,
   "metadata": {},
   "outputs": [],
   "source": [
    "ls = [0, 7, 2, 5, 4, 7, 1, 3, 6]"
   ]
  },
  {
   "cell_type": "code",
   "execution_count": 39,
   "metadata": {},
   "outputs": [
    {
     "output_type": "execute_result",
     "data": {
      "text/plain": [
       "[0, 7, 2, 5, 4, 7, 1, 3, 6]"
      ]
     },
     "metadata": {},
     "execution_count": 39
    }
   ],
   "source": [
    "ls"
   ]
  },
  {
   "cell_type": "code",
   "execution_count": 40,
   "metadata": {},
   "outputs": [
    {
     "output_type": "stream",
     "name": "stdout",
     "text": [
      "7\n"
     ]
    }
   ],
   "source": [
    "# dups = []\n",
    "for i in ls:\n",
    "    # print(\"-----\",i)\n",
    "    c = 1\n",
    "    index_count = 0\n",
    "    for j in ls:        \n",
    "        if i == j:            \n",
    "            c += 1\n",
    "    # print(c)\n",
    "    if c > 2:\n",
    "        ls.remove(i)\n",
    "        print(i)\n",
    "    "
   ]
  },
  {
   "source": [
    "### Finding number of pairs whose sum = x"
   ],
   "cell_type": "markdown",
   "metadata": {}
  },
  {
   "cell_type": "code",
   "execution_count": null,
   "metadata": {},
   "outputs": [],
   "source": [
    "ls = [1, 3, 6, 2, 5, 4, 3, 2, 4]\n",
    "x = 7\n",
    "index_counter = 0\n",
    "c = 0\n",
    "\n",
    "for i in ls:\n",
    "    for j in ls[index_counter+1:]:\n",
    "        if i + j==x:\n",
    "            c += 1\n",
    "            print(f\"i = {i}  j = {j}\") \n",
    "    index_counter += 1\n",
    "\n",
    "if c > 0:\n",
    "    print(c)\n",
    "else:\n",
    "    print(0)\n"
   ]
  },
  {
   "source": [
    "### Finding number of triplets whose sum = x"
   ],
   "cell_type": "markdown",
   "metadata": {}
  },
  {
   "cell_type": "code",
   "execution_count": 87,
   "metadata": {},
   "outputs": [
    {
     "output_type": "stream",
     "name": "stdout",
     "text": [
      "\nFINAL COUNT = 5\n"
     ]
    }
   ],
   "source": [
    "arr = [1, 2, 3, 4, 5, 6, 7]\n",
    "x = 12\n",
    "n = len(arr)\n",
    "\n",
    "index_counter = 0\n",
    "c = 0\n",
    "\n",
    "\n",
    "\n",
    "for i in range(0, n - 2):  \n",
    "    \n",
    "    for j in range(i + 1, n - 1):  \n",
    "        \n",
    "        for k in range(j + 1, n): \n",
    "            \n",
    "            if (arr[i] + arr[j] + arr[k] == x):\n",
    "                c += 1\n",
    "\n",
    "\n",
    "\n",
    "\n",
    "print()\n",
    "print(f\"FINAL COUNT = {c}\")"
   ]
  },
  {
   "source": [
    "### Find unique element"
   ],
   "cell_type": "markdown",
   "metadata": {}
  },
  {
   "cell_type": "code",
   "execution_count": 95,
   "metadata": {},
   "outputs": [
    {
     "output_type": "stream",
     "name": "stdout",
     "text": [
      "[2, 3, 1, 6, 3, 6, 2]\n[3, 1, 6, 3, 6]\n[3, 6, 3, 6]\n"
     ]
    }
   ],
   "source": [
    "ls = [2, 3,1, 6, 3, 6, 2]\n",
    "dups = 0\n",
    "c = 0\n",
    "for i in ls:\n",
    "    print(ls)\n",
    "    for j in ls:\n",
    "        if i == j:\n",
    "            ls.remove(j)"
   ]
  },
  {
   "source": [
    "### Find unique elements"
   ],
   "cell_type": "markdown",
   "metadata": {}
  },
  {
   "cell_type": "code",
   "execution_count": 68,
   "metadata": {},
   "outputs": [
    {
     "output_type": "stream",
     "name": "stdout",
     "text": [
      "1\n"
     ]
    }
   ],
   "source": [
    "ls = [2, 3, 1, 6, 3, 6, 2]\n",
    "n = len(ls)\n",
    "j = 0\n",
    "dups = 0\n",
    "# originals = 0\n",
    "for i in range(n):\n",
    "    # print(\"------\",i,\"------\")\n",
    "    dups = 0\n",
    "    for j in ls:\n",
    "        if ls[i]==j:\n",
    "            dups+=1\n",
    "\n",
    "    if dups > 1:\n",
    "        continue\n",
    "    else:\n",
    "        print(ls[i])\n"
   ]
  },
  {
   "source": [
    "### Finding intersection"
   ],
   "cell_type": "markdown",
   "metadata": {}
  },
  {
   "cell_type": "code",
   "execution_count": 75,
   "metadata": {},
   "outputs": [],
   "source": [
    "arr1 = [2, 6, 8, 5, 4, 3]\n",
    "arr2 = [2, 3, 4, 7]\n",
    "# unique_arr = []\n",
    "def intersections(arr1,arr2) :\n",
    "    #Your code goes here\n",
    "    unique_arr = []\n",
    "    for i in arr1:\n",
    "        for j in arr2:\n",
    "            if i==j:\n",
    "                print(i,end=\" \")\n"
   ]
  },
  {
   "cell_type": "code",
   "execution_count": 77,
   "metadata": {},
   "outputs": [
    {
     "output_type": "stream",
     "name": "stdout",
     "text": [
      "2 4 3 "
     ]
    }
   ],
   "source": [
    "intersections(arr1,arr2)"
   ]
  },
  {
   "cell_type": "code",
   "execution_count": null,
   "metadata": {},
   "outputs": [],
   "source": []
  }
 ]
}