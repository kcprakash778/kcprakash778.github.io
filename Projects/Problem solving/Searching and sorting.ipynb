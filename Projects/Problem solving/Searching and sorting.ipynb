{
 "metadata": {
  "language_info": {
   "codemirror_mode": {
    "name": "ipython",
    "version": 3
   },
   "file_extension": ".py",
   "mimetype": "text/x-python",
   "name": "python",
   "nbconvert_exporter": "python",
   "pygments_lexer": "ipython3",
   "version": "3.8.0-final"
  },
  "orig_nbformat": 2,
  "kernelspec": {
   "name": "python3",
   "display_name": "Python 3",
   "language": "python"
  }
 },
 "nbformat": 4,
 "nbformat_minor": 2,
 "cells": [
  {
   "source": [
    "### Simple Binary Search"
   ],
   "cell_type": "markdown",
   "metadata": {}
  },
  {
   "cell_type": "code",
   "execution_count": 21,
   "metadata": {
    "tags": []
   },
   "outputs": [
    {
     "output_type": "stream",
     "name": "stdout",
     "text": [
      "INDEX OF THE LIST =  5\n"
     ]
    }
   ],
   "source": [
    "# Return the index of the element if it exists\n",
    "ls = [1, 3, 7, 9, 11, 12, 45]\n",
    "x = int(input())\n",
    "n = len(ls)\n",
    "s = 0   # Starting index\n",
    "e = n - 1  # End index\n",
    "flag = False\n",
    "mid = (s+e)//2\n",
    "while s <= e:    \n",
    "    if x < ls[mid]:\n",
    "        e = mid\n",
    "    elif x == ls[mid]:\n",
    "        ans = mid\n",
    "        flag = True\n",
    "        break\n",
    "    else:\n",
    "        s = mid\n",
    "    mid = (s+e)//2\n",
    "if flag:\n",
    "    print(\"INDEX OF THE LIST = \",ans)\n",
    "else:\n",
    "    print(-1)"
   ]
  },
  {
   "source": [
    "### Bubble sort "
   ],
   "cell_type": "markdown",
   "metadata": {}
  },
  {
   "cell_type": "code",
   "execution_count": 28,
   "metadata": {},
   "outputs": [
    {
     "output_type": "stream",
     "name": "stdout",
     "text": [
      "[1, 2, 3, 4, 6, 13, 28]\n"
     ]
    }
   ],
   "source": [
    "arr = [2, 13, 4, 1, 3, 6, 28]\n",
    "n = len(arr)\n",
    "# x = n\n",
    "try:\n",
    "\n",
    "    for i in range(n):\n",
    "        # print(f\"Round = {i}\")\n",
    "        for j in range(0,n-i-1):\n",
    "            if arr[j] > arr[j+1]:\n",
    "                arr[j],arr[j+1] = arr[j+1],arr[j]\n",
    "         \n",
    "    print(arr)\n",
    "        # x = x - i\n",
    "\n",
    "\n",
    "    \n",
    "except IndexError:\n",
    "    pass"
   ]
  },
  {
   "source": [
    "### Insertion Sort"
   ],
   "cell_type": "markdown",
   "metadata": {}
  },
  {
   "cell_type": "code",
   "execution_count": 31,
   "metadata": {},
   "outputs": [
    {
     "output_type": "execute_result",
     "data": {
      "text/plain": [
       "[5, 1, 2, 3]"
      ]
     },
     "metadata": {},
     "execution_count": 31
    }
   ],
   "source": [
    "ls = [1,2,3]\n",
    "ls.insert(0,5)\n",
    "ls"
   ]
  },
  {
   "cell_type": "code",
   "execution_count": 50,
   "metadata": {},
   "outputs": [
    {
     "output_type": "stream",
     "name": "stdout",
     "text": [
      "[1, 2, 3, 4, 6, 13, 28]\n"
     ]
    }
   ],
   "source": [
    "arr = [2, 13, 4, 1, 3, 6, 28]\n",
    "n = len(arr)\n",
    "# sorted_arr = [2]\n",
    "\n",
    "for i in range(1,n):\n",
    "    j = i - 1\n",
    "    tmp = arr[i]\n",
    "    while j>=0 and arr[j] > tmp:\n",
    "        arr[j + 1] = arr[j]\n",
    "        j -= 1\n",
    "    arr[j+1] = tmp\n",
    "\n",
    "\n",
    "print(arr)    "
   ]
  },
  {
   "cell_type": "code",
   "execution_count": 53,
   "metadata": {},
   "outputs": [
    {
     "output_type": "stream",
     "name": "stdout",
     "text": [
      "[1, 2, 3, 4, 6, 7, 8]\n"
     ]
    }
   ],
   "source": [
    "a1 = [1,4,9,10]\n",
    "a2 = [2,3,6,7,8]\n",
    "a3 = []\n",
    "\n",
    "n1 = len(a1)\n",
    "n2 = len(a2)\n",
    "\n",
    "i = 0\n",
    "j = 0\n",
    "try:\n",
    "    while i <= n1 and j <=n2:\n",
    "        if a1[i] < a2[j]:\n",
    "            a3.append(a1[i])\n",
    "            i += 1\n",
    "        else:\n",
    "            a3.append(a2[j])\n",
    "            j += 1\n",
    "\n",
    "except IndexError:\n",
    "    pass\n",
    "print(a3)"
   ]
  },
  {
   "cell_type": "code",
   "execution_count": 56,
   "metadata": {},
   "outputs": [
    {
     "output_type": "stream",
     "name": "stdout",
     "text": [
      "1 2 3 4 6 7 8 "
     ]
    }
   ],
   "source": [
    "for i in range(len(a3)) :\n",
    "    print(a3[i], end = \" \")"
   ]
  },
  {
   "source": [
    "### Assignments"
   ],
   "cell_type": "markdown",
   "metadata": {}
  },
  {
   "cell_type": "code",
   "execution_count": 89,
   "metadata": {},
   "outputs": [
    {
     "output_type": "stream",
     "name": "stdout",
     "text": [
      "[2, 6, 1, 9, 8, 0, 0, 0, 0]\n"
     ]
    }
   ],
   "source": [
    "# Push zeros at end\n",
    "\n",
    "arr = [2, 6, 0, 0, 1, 9, 0, 8, 0]\n",
    "n = len(arr)\n",
    "count = 0\n",
    "for i in range(0, n): \n",
    "        if (arr[i] != 0): \n",
    "            arr[count], arr[i] = arr[i], arr[count] \n",
    "            count+=1\n",
    "print(arr)"
   ]
  },
  {
   "cell_type": "code",
   "execution_count": 101,
   "metadata": {},
   "outputs": [
    {
     "output_type": "stream",
     "name": "stdout",
     "text": [
      "[4, 5, 6, 7, 10, 11, 12, 13, 14, 15, 16, 1, 2, 3]\n"
     ]
    }
   ],
   "source": [
    "arr = [1,2,3,4,5,6,7,10,11,12,13,14,15,16]\n",
    "d = 3\n",
    "n = len(arr)\n",
    "\n",
    "for i in range(d):\n",
    "    k = arr[0]\n",
    "    arr.pop(0)\n",
    "    arr.append(k)\n",
    "   \n",
    "\n",
    "print(arr)\n"
   ]
  },
  {
   "cell_type": "code",
   "execution_count": 3,
   "metadata": {},
   "outputs": [
    {
     "output_type": "stream",
     "name": "stdout",
     "text": [
      "[7, 6, 5, 4, 1, 2, 3]\n"
     ]
    }
   ],
   "source": [
    "# Rotate array by d\n",
    "\n",
    "\n",
    "arr = [1,2,3,4,5,6,7]\n",
    "d = 3\n",
    "n = len(arr)\n",
    "# print(n)\n",
    "\n",
    "if n%2!=0:\n",
    "    for i in range((n+1)//2 ):\n",
    "        arr[i], arr[-i-1] = arr[-i-1], arr[i]\n",
    "    \n",
    "    # print(arr)\n",
    "    \n",
    "    for j in range(n-d):\n",
    "        # print(j)\n",
    "        arr[j], arr[d-j] = arr[d-j], arr[j]\n",
    "\n",
    "    # print(arr)\n",
    "    \n",
    "    for k in range(1):\n",
    "        # print(k)\n",
    "        arr[n-d+k], arr[-k-1] = arr[-k-1], arr[n-d+k]\n",
    "\n",
    "    # print(arr)\n",
    "else:\n",
    "    for i in range(n//2):\n",
    "        arr[i], arr[-i-1] = arr[-i-1], arr[i]\n",
    "\n",
    "print(arr)"
   ]
  },
  {
   "cell_type": "code",
   "execution_count": 48,
   "metadata": {},
   "outputs": [],
   "source": [
    "# Second largest array\n",
    "\n",
    "MIN_VALUE = -2147483648\n",
    "def secondLargestElement(arr, n):\n",
    "    if n == 0 : \n",
    "        return MIN_VALUE\n",
    "    largest = arr[0] \n",
    "    secondLargest = MIN_VALUE \n",
    "    for i in range(n) : \n",
    "        if largest < arr[i] : \n",
    "            secondLargest = largest \n",
    "            largest = arr[i]\n",
    "        elif secondLargest < arr[i] and arr[i] != largest :\n",
    "            secondLargest = arr[i] \n",
    "    return secondLargest"
   ]
  },
  {
   "cell_type": "code",
   "execution_count": 51,
   "metadata": {},
   "outputs": [
    {
     "output_type": "stream",
     "name": "stdout",
     "text": [
      "3\n"
     ]
    }
   ],
   "source": [
    "# Find rotation key\n",
    "\n",
    "arr = [10,20,30,1]\n",
    "n = len(arr)\n",
    "k = 1\n",
    "\n",
    "for i in range(n):\n",
    "    if arr[i]<arr[i+1]:\n",
    "        k += 1\n",
    "    else:\n",
    "        break\n",
    "print(k)"
   ]
  },
  {
   "cell_type": "code",
   "execution_count": 2,
   "metadata": {},
   "outputs": [
    {
     "output_type": "execute_result",
     "data": {
      "text/plain": [
       "[0, 0, 0, 1, 1, 2, 2]"
      ]
     },
     "metadata": {},
     "execution_count": 2
    }
   ],
   "source": [
    "# Sort 0, 1, 2\n",
    "\n",
    "arr = [0, 1, 2, 0, 2, 0, 1]\n",
    "n = len(arr)\n",
    "count_0=0\n",
    "count_1=0\n",
    "count_2=0\n",
    "for i in range(0,len(arr)):\n",
    "    if(arr[i]==0):\n",
    "        count_0=count_0+1\n",
    "    elif(arr[i]==1):\n",
    "        count_1=count_1+1\n",
    "    else:\n",
    "        count_2=count_2+1\n",
    "\n",
    "arr=[0]*count_0+[1]*count_1+[2]*count_2\n",
    "\n",
    "arr"
   ]
  },
  {
   "cell_type": "code",
   "execution_count": null,
   "metadata": {},
   "outputs": [],
   "source": []
  }
 ]
}