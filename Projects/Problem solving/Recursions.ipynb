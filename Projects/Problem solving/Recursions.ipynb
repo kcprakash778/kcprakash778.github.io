{
 "metadata": {
  "language_info": {
   "codemirror_mode": {
    "name": "ipython",
    "version": 3
   },
   "file_extension": ".py",
   "mimetype": "text/x-python",
   "name": "python",
   "nbconvert_exporter": "python",
   "pygments_lexer": "ipython3",
   "version": "3.8.0-final"
  },
  "orig_nbformat": 2,
  "kernelspec": {
   "name": "python3",
   "display_name": "Python 3",
   "language": "python"
  }
 },
 "nbformat": 4,
 "nbformat_minor": 2,
 "cells": [
  {
   "cell_type": "code",
   "execution_count": 1,
   "metadata": {},
   "outputs": [
    {
     "output_type": "stream",
     "name": "stdout",
     "text": [
      "81\n"
     ]
    }
   ],
   "source": [
    "# Exponent of a number\n",
    "\n",
    "nums = input().split()\n",
    "n = int(nums[0])\n",
    "a = int(nums[1])\n",
    "# print(a)\n",
    "# print(n)\n",
    "def pow(n,a):\n",
    "    if a == 0:\n",
    "        return 1\n",
    "    return n * pow(n,a-1)\n",
    "\n",
    "print(pow(n,a))"
   ]
  },
  {
   "cell_type": "code",
   "execution_count": 5,
   "metadata": {},
   "outputs": [
    {
     "output_type": "stream",
     "name": "stdout",
     "text": [
      "15\n"
     ]
    }
   ],
   "source": [
    "# Sum of array\n",
    "\n",
    "a = [1,2,3,4,5]\n",
    "\n",
    "def arraySum(a):\n",
    "    n = len(a)\n",
    "    if n == 1:\n",
    "        return a[0]\n",
    "    \n",
    "    return a[0] + arraySum(a[1:])\n",
    "\n",
    "print(arraySum(a))"
   ]
  },
  {
   "cell_type": "code",
   "execution_count": 12,
   "metadata": {},
   "outputs": [],
   "source": [
    "# Finding first index of the element present in an array\n",
    "\n",
    "\n",
    "def firstIndex(a,x,si):\n",
    "    c = 0\n",
    "    n = len(a)\n",
    "    if si == n:\n",
    "        return -1\n",
    "    \n",
    "    if a[si] == x:\n",
    "        return si\n",
    "    \n",
    "    smallOutput = firstIndex(a,x,si+1)\n",
    "    return smallOutput\n"
   ]
  },
  {
   "cell_type": "code",
   "execution_count": 13,
   "metadata": {},
   "outputs": [
    {
     "output_type": "stream",
     "name": "stdout",
     "text": [
      "3\n"
     ]
    }
   ],
   "source": [
    "a = [1,2,3,4,6,4,9]\n",
    "# print(len(a))\n",
    "print(firstIndex(a,4,0))"
   ]
  },
  {
   "cell_type": "code",
   "execution_count": 38,
   "metadata": {},
   "outputs": [],
   "source": [
    "def lastIndex(a,x,si):\n",
    "    # a = a[-1:0:-1]\n",
    "    n = len(a)\n",
    "    if si == n:\n",
    "        return -1\n",
    "       \n",
    "    smallOutput = lastIndex(a,x,si+1)\n",
    "    if smallOutput != -1:\n",
    "        return smallOutput\n",
    "    else:\n",
    "        if a[si] == x:\n",
    "            return si\n",
    "        else:\n",
    "            return -1\n",
    "\n",
    "    # return smallOutput"
   ]
  },
  {
   "cell_type": "code",
   "execution_count": 39,
   "metadata": {},
   "outputs": [
    {
     "output_type": "stream",
     "name": "stdout",
     "text": [
      "5\n"
     ]
    }
   ],
   "source": [
    "a = [1,2,3,4,6,4,9]\n",
    "# print(len(a))\n",
    "print(lastIndex(a,4,0))"
   ]
  },
  {
   "source": [
    "Remove X occurence from a string"
   ],
   "cell_type": "markdown",
   "metadata": {}
  },
  {
   "cell_type": "code",
   "execution_count": 21,
   "metadata": {},
   "outputs": [],
   "source": [
    "def removeX(string, x):\n",
    "    n = len(string)\n",
    "    if n == 0:\n",
    "        return string\n",
    "    \n",
    "    smallString = removeX(string[1:],x)\n",
    "\n",
    "    if string[0]==x:\n",
    "        return \"\"+smallString\n",
    "    else:\n",
    "        return string[0] + smallString\n",
    "   "
   ]
  },
  {
   "cell_type": "code",
   "execution_count": 22,
   "metadata": {},
   "outputs": [
    {
     "output_type": "execute_result",
     "data": {
      "text/plain": [
       "'bcd'"
      ]
     },
     "metadata": {},
     "execution_count": 22
    }
   ],
   "source": [
    "removeX(\"xbcdx\",'x')"
   ]
  },
  {
   "source": [
    "Remove consecutive duplicates recursively "
   ],
   "cell_type": "markdown",
   "metadata": {}
  },
  {
   "cell_type": "code",
   "execution_count": 1,
   "metadata": {},
   "outputs": [
    {
     "output_type": "execute_result",
     "data": {
      "text/plain": [
       "'abcd'"
      ]
     },
     "metadata": {},
     "execution_count": 1
    }
   ],
   "source": [
    "def removeDups(s):\n",
    "    n = len(s)\n",
    "    if n == 0 or n==1:\n",
    "        return s\n",
    "    if s[0]==s[1]:\n",
    "        smallOutput = removeDups(s[2:])\n",
    "        return s[1] + smallOutput\n",
    "    else:\n",
    "        smallOutput = removeDups(s[1:])\n",
    "        return s[0] + smallOutput\n",
    "\n",
    "\n",
    "removeDups('aabbccdd')"
   ]
  },
  {
   "source": [
    "Merge sort using recursion"
   ],
   "cell_type": "markdown",
   "metadata": {}
  },
  {
   "cell_type": "code",
   "execution_count": 44,
   "metadata": {},
   "outputs": [
    {
     "output_type": "execute_result",
     "data": {
      "text/plain": [
       "[1, 3, 4, 5, 7, 9, 10]"
      ]
     },
     "metadata": {},
     "execution_count": 44
    }
   ],
   "source": [
    "def merge(a1, a2, a):\n",
    "    \n",
    "    n1 = len(a1)\n",
    "    n2 = len(a2)\n",
    "\n",
    "    i = 0\n",
    "    j = 0\n",
    "    k = 0\n",
    "\n",
    "    while i < n1 and j < n2:\n",
    "        if a1[i] < a2[j]:\n",
    "            a[k] = a1[i]\n",
    "            k += 1\n",
    "            i += 1\n",
    "        else:\n",
    "            a[k] = a2[j]\n",
    "            k += 1\n",
    "            j += 1\n",
    "\n",
    "    while i < n1:\n",
    "        a[k] = a1[i]\n",
    "        k += 1\n",
    "        i += 1\n",
    "\n",
    "    while j < n2:\n",
    "        a[k] = a2[j]\n",
    "        k += 1\n",
    "        j += 1\n",
    "\n",
    "\n",
    "def merge_sort(a):\n",
    "    n = len(a)\n",
    "    if n==0 or n==1:\n",
    "        return\n",
    "    mid = n//2\n",
    "    a1 = a[0:mid]\n",
    "    a2 = a[mid:]\n",
    "    merge_sort(a1)\n",
    "    merge_sort(a2)\n",
    "    merge(a1,a2,a)\n",
    "\n",
    "\n",
    "\n",
    "x = [10,5,3,7,1,9,4]\n",
    "merge_sort(x)\n",
    "x\n"
   ]
  },
  {
   "source": [
    "Quick sort "
   ],
   "cell_type": "markdown",
   "metadata": {}
  },
  {
   "cell_type": "code",
   "execution_count": 39,
   "metadata": {},
   "outputs": [
    {
     "output_type": "execute_result",
     "data": {
      "text/plain": [
       "[1, 2, 3, 4, 5, 6, 7, 8, 9, 10]"
      ]
     },
     "metadata": {},
     "execution_count": 39
    }
   ],
   "source": [
    "def partion(arr, start, end):\n",
    "    pivot = arr[start]\n",
    "    # print(pivot)\n",
    "    # print()\n",
    "    c = 0 \n",
    "    for i in range(start, end + 1):\n",
    "        if arr[i] < pivot:\n",
    "            c += 1\n",
    "    \n",
    "    # print(\"Count = \",c)\n",
    "    arr[start + c], arr[start] = arr[start], arr[start + c]\n",
    "    # print()\n",
    "    # print(arr)\n",
    "    pivot_index = start + c\n",
    "\n",
    "    i = start\n",
    "    j = end\n",
    "\n",
    "    while i < j:\n",
    "        if arr[i] < arr[pivot_index]:\n",
    "            i += 1\n",
    "        elif arr[j] >= arr[pivot_index]:\n",
    "            j -= 1\n",
    "        else:\n",
    "            arr[i], arr[j] = arr[j], arr[i]\n",
    "            i += 1\n",
    "            j -= 1\n",
    "\n",
    "    return pivot_index\n",
    "\n",
    "\n",
    "\n",
    "def quickSort(arr, start, end):\n",
    "    if start >= end:\n",
    "        return\n",
    "    pivot_index = partion(arr, start, end)\n",
    "\n",
    "    quickSort(arr, start, pivot_index - 1)\n",
    "    quickSort(arr, pivot_index + 1, end)\n",
    "\n",
    "\n",
    "a = [6,10,9,8,7,1,3,5,4,2]\n",
    "quickSort(a, 0, len(a)-1)\n",
    "a"
   ]
  },
  {
   "source": [
    "Tower of hanoi"
   ],
   "cell_type": "markdown",
   "metadata": {}
  },
  {
   "cell_type": "code",
   "execution_count": 41,
   "metadata": {},
   "outputs": [],
   "source": [
    "def tower_hanoi(n,a,b,c):\n",
    "    if n==1:\n",
    "        print(f\"move 1st disk from {a} to {c}\")\n",
    "        return\n",
    "\n",
    "    tower_hanoi(n-1,a,c,b)\n",
    "    print(f\"move {n}th disk from {a} to {c}\")\n",
    "    tower_hanoi(n-1,b,a,c)\n",
    "    "
   ]
  },
  {
   "cell_type": "code",
   "execution_count": 45,
   "metadata": {},
   "outputs": [
    {
     "output_type": "stream",
     "name": "stdout",
     "text": [
      "move 1st disk from source to helper\nmove 2th disk from source to destination\nmove 1st disk from helper to destination\n"
     ]
    }
   ],
   "source": [
    "tower_hanoi(2,\"source\", \"helper\", \"destination\")"
   ]
  },
  {
   "source": [
    "## Assignments"
   ],
   "cell_type": "markdown",
   "metadata": {}
  },
  {
   "source": [
    "Geometric Sum\n",
    "\n",
    "Given k, find the geometric sum i.e.\n",
    "\n",
    "1 + 1/2 + 1/4 + 1/8 + ... + 1/(2^k) \n"
   ],
   "cell_type": "markdown",
   "metadata": {}
  },
  {
   "cell_type": "code",
   "execution_count": 97,
   "metadata": {},
   "outputs": [],
   "source": [
    "def geometricSum(k):\n",
    "    if k == 0:\n",
    "        return 1\n",
    "    \n",
    "    answer = geometricSum(k-1) + (1/2**k)\n",
    "    return answer\n",
    "\n",
    "a = geometricSum(4)\n",
    "print(format(a,\".5f\"))"
   ]
  },
  {
   "source": [
    " Check Palindrome (recursive) "
   ],
   "cell_type": "markdown",
   "metadata": {}
  },
  {
   "cell_type": "code",
   "execution_count": 16,
   "metadata": {},
   "outputs": [
    {
     "output_type": "stream",
     "name": "stdout",
     "text": [
      "true\n"
     ]
    }
   ],
   "source": [
    "# Recursive function to check if a \n",
    "# string is palindrome\n",
    "\n",
    "def isPalindrome(s):\n",
    "\n",
    "\t# length of s\n",
    "\tl = len(s)\n",
    "\t\n",
    "\t# if length is less than 2\n",
    "\tif l < 2:\n",
    "\t\treturn True\n",
    "\n",
    "\t# If s[0] and s[l-1] are equal\n",
    "\telif s[0] == s[l - 1]:\n",
    "\t\t\n",
    "\t\t# Call is pallindrome form substring(1,l-1)\n",
    "\t\treturn isPalindrome(s[1: l - 1])\n",
    "\n",
    "\telse:\n",
    "\t\treturn False\n",
    "\n",
    "\n",
    "\n",
    "\n",
    "\n",
    "\n",
    "s = \"racecar\"\n",
    "ans = isPalindrome(s)\n",
    "if ans:\n",
    "    print(\"true\")\n",
    "else:\n",
    "    print(\"false\")"
   ]
  },
  {
   "source": [
    " Sum of digits (recursive) "
   ],
   "cell_type": "markdown",
   "metadata": {}
  },
  {
   "cell_type": "code",
   "execution_count": 19,
   "metadata": {},
   "outputs": [
    {
     "output_type": "stream",
     "name": "stdout",
     "text": [
      "15\n"
     ]
    }
   ],
   "source": [
    "def recSum(x):\n",
    "    if x == 0:\n",
    "        return 0\n",
    "    else:\n",
    "        return int(x % 10) + recSum(int(x / 10))\n",
    "\n",
    "x = 12345\n",
    "print(recSum(x))"
   ]
  },
  {
   "cell_type": "code",
   "execution_count": 28,
   "metadata": {},
   "outputs": [],
   "source": [
    "def recMultiply(m,n):\n",
    "    if m == 0 or n == 0:\n",
    "        return 0\n",
    "    else:\n",
    "        return m + recMultiply(m,n-1)"
   ]
  },
  {
   "cell_type": "code",
   "execution_count": 34,
   "metadata": {},
   "outputs": [
    {
     "output_type": "execute_result",
     "data": {
      "text/plain": [
       "0"
      ]
     },
     "metadata": {},
     "execution_count": 34
    }
   ],
   "source": [
    "recMultiply(0,8)"
   ]
  },
  {
   "cell_type": "code",
   "execution_count": 48,
   "metadata": {},
   "outputs": [
    {
     "output_type": "stream",
     "name": "stdout",
     "text": [
      "3\n"
     ]
    }
   ],
   "source": [
    "count=0\n",
    "def count_digit(num):\n",
    "    global count\n",
    "    if (num >0):\n",
    "        if(num%10==0):\n",
    "            count +=1\n",
    "        count_digit(num // 10)\n",
    "    return count\n",
    "\n",
    "\n",
    "print(count_digit(111256621000))"
   ]
  },
  {
   "source": [
    "Convert String to integer recursively"
   ],
   "cell_type": "markdown",
   "metadata": {}
  },
  {
   "cell_type": "code",
   "execution_count": null,
   "metadata": {},
   "outputs": [],
   "source": []
  }
 ]
}