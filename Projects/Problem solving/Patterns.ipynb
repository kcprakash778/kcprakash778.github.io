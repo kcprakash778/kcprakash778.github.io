{
 "metadata": {
  "language_info": {
   "codemirror_mode": {
    "name": "ipython",
    "version": 3
   },
   "file_extension": ".py",
   "mimetype": "text/x-python",
   "name": "python",
   "nbconvert_exporter": "python",
   "pygments_lexer": "ipython3",
   "version": "3.8.0-final"
  },
  "orig_nbformat": 2,
  "kernelspec": {
   "name": "python3",
   "display_name": "Python 3",
   "language": "python"
  }
 },
 "nbformat": 4,
 "nbformat_minor": 2,
 "cells": [
  {
   "cell_type": "code",
   "execution_count": 146,
   "metadata": {
    "tags": []
   },
   "outputs": [
    {
     "output_type": "stream",
     "name": "stdout",
     "text": [
      "....*\n...***\n..*****\n...***\n....*\n"
     ]
    }
   ],
   "source": [
    "n = int(input())\n",
    "n1 = (n+1)//2\n",
    "n2 = n1 - 1\n",
    "\n",
    "i = 1\n",
    "while i <= n1:\n",
    "    print(\".\"*(n-i),end=\"\")\n",
    "    print(\"*\"*(2*i-1),end=\"\")\n",
    "    print()\n",
    "    i = i+1\n",
    "\n",
    "j = n2\n",
    "# J = 3\n",
    "c = n2\n",
    "while j > 0:\n",
    "    # print()\n",
    "    print(\".\"*(c+1),end=\"\")\n",
    "    print(\"*\"*(2*j-1),end=\"\")\n",
    "    print()\n",
    "    j = j - 1\n",
    "    c = c+1\n",
    "\n",
    "# print()\n"
   ]
  },
  {
   "cell_type": "code",
   "execution_count": 11,
   "metadata": {},
   "outputs": [
    {
     "output_type": "stream",
     "name": "stdout",
     "text": [
      "55555\n55555\n55555\n55555\n55555\n"
     ]
    }
   ],
   "source": [
    "n = int(input())\n",
    "i = 1\n",
    "while i <= n:\n",
    "    j = 1\n",
    "    while j <= n:\n",
    "        print(str(n),end=\"\")\n",
    "        j = j+1\n",
    "    print()\n",
    "    i = i+1"
   ]
  },
  {
   "cell_type": "code",
   "execution_count": 6,
   "metadata": {
    "tags": []
   },
   "outputs": [
    {
     "output_type": "stream",
     "name": "stdout",
     "text": [
      "1\n2\n3\n4\n5\n"
     ]
    }
   ],
   "source": [
    "x = 1\n",
    "while x<=n:\n",
    "    print(x)\n",
    "    x = x+1"
   ]
  },
  {
   "cell_type": "code",
   "execution_count": 16,
   "metadata": {},
   "outputs": [
    {
     "output_type": "stream",
     "name": "stdout",
     "text": [
      "11111\n22222\n33333\n44444\n55555\n"
     ]
    }
   ],
   "source": [
    "n = int(input())\n",
    "i = 1\n",
    "while i <= n:\n",
    "    j = 1\n",
    "    while j <= n:\n",
    "        print(str(i),end=\"\")\n",
    "        j = j+1\n",
    "    print()\n",
    "    i = i+1"
   ]
  },
  {
   "cell_type": "code",
   "execution_count": 13,
   "metadata": {},
   "outputs": [
    {
     "output_type": "stream",
     "name": "stdout",
     "text": [
      "1234\n1234\n1234\n1234\n"
     ]
    }
   ],
   "source": [
    "n = int(input())\n",
    "i = 1\n",
    "while i <= n:\n",
    "    j = 1\n",
    "    while j <= n:\n",
    "        print(str(j),end=\"\")\n",
    "        j = j+1\n",
    "    print()\n",
    "    i = i+1"
   ]
  },
  {
   "cell_type": "code",
   "execution_count": 23,
   "metadata": {
    "tags": []
   },
   "outputs": [
    {
     "output_type": "stream",
     "name": "stdout",
     "text": [
      "54321\n54321\n54321\n54321\n54321\n"
     ]
    }
   ],
   "source": [
    "n = int(input())\n",
    "i = 1\n",
    "while i <= n:\n",
    "    j = 1\n",
    "    while j <= n:\n",
    "        print(n-j+1,end=\"\")\n",
    "        j = j+1\n",
    "    print()\n",
    "    i = i+1"
   ]
  },
  {
   "cell_type": "code",
   "execution_count": 24,
   "metadata": {},
   "outputs": [
    {
     "output_type": "stream",
     "name": "stdout",
     "text": [
      "1\n12\n123\n1234\n12345\n"
     ]
    }
   ],
   "source": [
    "n = int(input())\n",
    "i = 1\n",
    "while i <= n:\n",
    "    j = 1\n",
    "    while j <= i:\n",
    "        print(j,end=\"\")\n",
    "        j = j+1\n",
    "    print()\n",
    "    i = i+1"
   ]
  },
  {
   "cell_type": "code",
   "execution_count": 30,
   "metadata": {},
   "outputs": [
    {
     "output_type": "stream",
     "name": "stdout",
     "text": [
      "*\n**\n***\n****\n*****\n"
     ]
    }
   ],
   "source": [
    "n = int(input())\n",
    "i = 1\n",
    "while i <= n:\n",
    "    j = 1\n",
    "    while j <= i:\n",
    "        print(\"*\",end=\"\")\n",
    "        j = j+1\n",
    "    print()\n",
    "    i = i+1"
   ]
  },
  {
   "cell_type": "code",
   "execution_count": 31,
   "metadata": {},
   "outputs": [
    {
     "output_type": "stream",
     "name": "stdout",
     "text": [
      "1\n22\n333\n4444\n"
     ]
    }
   ],
   "source": [
    "n = int(input())\n",
    "i = 1\n",
    "while i <= n:\n",
    "    j = 1\n",
    "    while j <= i:\n",
    "        print(i,end=\"\")\n",
    "        j = j+1\n",
    "    print()\n",
    "    i = i+1"
   ]
  },
  {
   "cell_type": "code",
   "execution_count": 38,
   "metadata": {},
   "outputs": [
    {
     "output_type": "stream",
     "name": "stdout",
     "text": [
      "1\n21\n321\n4321\n"
     ]
    }
   ],
   "source": [
    "n = int(input())\n",
    "i = 1\n",
    "while i <= n:\n",
    "    j = 1\n",
    "    # print(\"I -->\",i)\n",
    "    while j <= i:\n",
    "        print(i-j+1,end=\"\")\n",
    "        j = j+1\n",
    "    print()\n",
    "    i = i+1"
   ]
  },
  {
   "cell_type": "code",
   "execution_count": 40,
   "metadata": {},
   "outputs": [
    {
     "output_type": "execute_result",
     "data": {
      "text/plain": [
       "65"
      ]
     },
     "metadata": {},
     "execution_count": 40
    }
   ],
   "source": [
    "ord(\"A\")"
   ]
  },
  {
   "cell_type": "code",
   "execution_count": 41,
   "metadata": {},
   "outputs": [
    {
     "output_type": "execute_result",
     "data": {
      "text/plain": [
       "'A'"
      ]
     },
     "metadata": {},
     "execution_count": 41
    }
   ],
   "source": [
    "chr(65)"
   ]
  },
  {
   "cell_type": "code",
   "execution_count": 45,
   "metadata": {},
   "outputs": [
    {
     "output_type": "execute_result",
     "data": {
      "text/plain": [
       "71"
      ]
     },
     "metadata": {},
     "execution_count": 45
    }
   ],
   "source": [
    "ord(\"G\")"
   ]
  },
  {
   "cell_type": "code",
   "execution_count": 88,
   "metadata": {},
   "outputs": [
    {
     "output_type": "execute_result",
     "data": {
      "text/plain": [
       "'E'"
      ]
     },
     "metadata": {},
     "execution_count": 88
    }
   ],
   "source": [
    "k = int(input())\n",
    "x = \"A\"\n",
    "ans = ord(x)+k-1\n",
    "chr(ans)"
   ]
  },
  {
   "cell_type": "code",
   "execution_count": 84,
   "metadata": {},
   "outputs": [
    {
     "output_type": "stream",
     "name": "stdout",
     "text": [
      "A\nBC\nCDE\nDEFG\n"
     ]
    }
   ],
   "source": [
    "n = int(input())\n",
    "i = 1\n",
    "while i <= n:\n",
    "    j = 1\n",
    "    startChar = \"A\"\n",
    "    while j <= i:\n",
    "\n",
    "        print(chr(ord(startChar)+i+j-2),end=\"\")\n",
    "        \n",
    "        j = j+1\n",
    "    print()\n",
    "    i = i+1"
   ]
  },
  {
   "cell_type": "code",
   "execution_count": 67,
   "metadata": {},
   "outputs": [
    {
     "output_type": "execute_result",
     "data": {
      "text/plain": [
       "'C'"
      ]
     },
     "metadata": {},
     "execution_count": 67
    }
   ],
   "source": [
    "chr(ord(startChar) + 2)"
   ]
  },
  {
   "cell_type": "code",
   "execution_count": 95,
   "metadata": {},
   "outputs": [
    {
     "output_type": "stream",
     "name": "stdout",
     "text": [
      "E\nDE\nCDE\nBCDE\nABCDE\n"
     ]
    }
   ],
   "source": [
    "n = int(input())\n",
    "i = 1\n",
    "while i <= n:\n",
    "    j = 1\n",
    "    startChar = chr(ord(\"A\") + n - 1)\n",
    "    # print(\"STARTCHAR\",startChar)\n",
    "    while j <= i:\n",
    "        print(chr(ord(startChar)-i+j),end=\"\")\n",
    "        \n",
    "        j = j+1\n",
    "    print()\n",
    "    i = i+1"
   ]
  },
  {
   "cell_type": "code",
   "execution_count": 97,
   "metadata": {},
   "outputs": [
    {
     "output_type": "stream",
     "name": "stdout",
     "text": [
      "4\n4444\n444444444\n4444444444444444\n"
     ]
    }
   ],
   "source": [
    "n = int(input())\n",
    "i = 1\n",
    "while i <= n:\n",
    "    j = 1\n",
    "    while j <= i:\n",
    "        print(str(n)*i,end=\"\")        \n",
    "        j = j+1\n",
    "    print()\n",
    "    i = i+1"
   ]
  },
  {
   "cell_type": "code",
   "execution_count": 98,
   "metadata": {},
   "outputs": [
    {
     "output_type": "stream",
     "name": "stdout",
     "text": [
      "5\n55\n555\n5555\n55555\n"
     ]
    }
   ],
   "source": [
    "n = int(input())\n",
    "i = 1\n",
    "while i <= n:\n",
    "    print(str(n)*i)\n",
    "    i = i+1"
   ]
  },
  {
   "cell_type": "code",
   "execution_count": 10,
   "metadata": {},
   "outputs": [
    {
     "output_type": "stream",
     "name": "stdout",
     "text": [
      "loop answer 11\nloop answer 131\nloop answer 1331\nloop answer 13331\nloop answer 133331\n"
     ]
    }
   ],
   "source": [
    "n = int(input())\n",
    "c = 1\n",
    "i = 0\n",
    "while c <=n:\n",
    "    i = i + 1\n",
    "    i = i*10 + 1\n",
    "    c = c + 1\n",
    "    print(\"loop answer\",i)\n",
    "    # print(\"Iter number - \",c)\n",
    "    i = i + 1\n"
   ]
  },
  {
   "cell_type": "code",
   "execution_count": 25,
   "metadata": {},
   "outputs": [
    {
     "output_type": "stream",
     "name": "stdout",
     "text": [
      "A\nBB\nCCC\nDDDD\nEEEEE\nFFFFFF\nGGGGGGG\n"
     ]
    }
   ],
   "source": [
    "#ALFA PATTERN\n",
    "\n",
    "n = int(input())\n",
    "i = 1\n",
    "startChar = \"A\"\n",
    "c = 0\n",
    "while i <= n:\n",
    "\n",
    "    print(chr(ord(startChar)+c)*i,end=\"\")\n",
    "    print()\n",
    "    i = i+1\n",
    "    c = c+1\n"
   ]
  },
  {
   "cell_type": "code",
   "execution_count": 22,
   "metadata": {},
   "outputs": [],
   "source": [
    "x = chr(ord(startChar)+0)"
   ]
  },
  {
   "cell_type": "code",
   "execution_count": 34,
   "metadata": {
    "tags": []
   },
   "outputs": [
    {
     "output_type": "stream",
     "name": "stdout",
     "text": [
      "12345\n1234\n123\n12\n1\n\n"
     ]
    }
   ],
   "source": [
    "n = int(input())\n",
    "i = n\n",
    "while i >= 0:\n",
    "    j=1\n",
    "    while j<=i:\n",
    "        print(j, end=\"\")\n",
    "        j = j+1\n",
    "    print()\n",
    "    i = i-1"
   ]
  },
  {
   "cell_type": "code",
   "execution_count": 43,
   "metadata": {},
   "outputs": [
    {
     "output_type": "stream",
     "name": "stdout",
     "text": [
      "1\n11\n121\n1221\n12221\n"
     ]
    }
   ],
   "source": [
    "n = int(input())\n",
    "i = 1\n",
    "x = 1\n",
    "y = 0\n",
    "print(1)\n",
    "while i <= n-1:    \n",
    "    x = (y*10 + 1)\n",
    "    print(x*11, end=\"\")\n",
    "    print()\n",
    "    y = x \n",
    "    # print(y)\n",
    "    i += 1    "
   ]
  },
  {
   "cell_type": "code",
   "execution_count": 44,
   "metadata": {},
   "outputs": [
    {
     "output_type": "execute_result",
     "data": {
      "text/plain": [
       "14"
      ]
     },
     "metadata": {},
     "execution_count": 44
    }
   ],
   "source": [
    "3003//202"
   ]
  },
  {
   "cell_type": "code",
   "execution_count": 51,
   "metadata": {},
   "outputs": [
    {
     "output_type": "execute_result",
     "data": {
      "text/plain": [
       "1991"
      ]
     },
     "metadata": {},
     "execution_count": 51
    }
   ],
   "source": [
    "3003 - 92*11"
   ]
  },
  {
   "cell_type": "code",
   "execution_count": 52,
   "metadata": {},
   "outputs": [
    {
     "output_type": "execute_result",
     "data": {
      "text/plain": [
       "181.0"
      ]
     },
     "metadata": {},
     "execution_count": 52
    }
   ],
   "source": [
    "1991/11"
   ]
  },
  {
   "cell_type": "code",
   "execution_count": 54,
   "metadata": {},
   "outputs": [],
   "source": [
    "# 181**0.5"
   ]
  },
  {
   "cell_type": "code",
   "execution_count": 56,
   "metadata": {},
   "outputs": [
    {
     "output_type": "execute_result",
     "data": {
      "text/plain": [
       "781"
      ]
     },
     "metadata": {},
     "execution_count": 56
    }
   ],
   "source": [
    "3003 - 202*11"
   ]
  },
  {
   "cell_type": "code",
   "execution_count": 12,
   "metadata": {},
   "outputs": [
    {
     "output_type": "stream",
     "name": "stdout",
     "text": [
      "1\n11\n20\n2\n3\n"
     ]
    }
   ],
   "source": [
    "n = int(input())\n",
    "i = 1\n",
    "j = 0\n",
    "print(\"1\")\n",
    "print(\"11\")\n",
    "while i <= n-2:\n",
    "    i = i + 1\n",
    "    while j<=i:\n",
    "        if j==0:\n",
    "            print(str(i), end=\"\")\n",
    "        elif i==j:\n",
    "            print(str(j))\n",
    "        else:\n",
    "            print(str(0))\n",
    "        j = j + 1"
   ]
  },
  {
   "cell_type": "code",
   "execution_count": 13,
   "metadata": {},
   "outputs": [
    {
     "output_type": "stream",
     "name": "stdout",
     "text": [
      "*****\n****\n***\n**\n*\n\n"
     ]
    }
   ],
   "source": [
    "# INVERTED TRIANGLE\n",
    "n = int(input())\n",
    "i = n\n",
    "while i>=0:\n",
    "    print(\"*\"*i)\n",
    "    i = i - 1"
   ]
  },
  {
   "cell_type": "code",
   "execution_count": 14,
   "metadata": {},
   "outputs": [
    {
     "output_type": "stream",
     "name": "stdout",
     "text": [
      "55555\n4444\n333\n22\n1\n\n"
     ]
    }
   ],
   "source": [
    "n = int(input())\n",
    "i = n\n",
    "while i >= 0:\n",
    "    print(str(i)*i)\n",
    "    i = i-1"
   ]
  },
  {
   "cell_type": "code",
   "execution_count": 15,
   "metadata": {},
   "outputs": [
    {
     "output_type": "stream",
     "name": "stdout",
     "text": [
      "   1\n  12\n 123\n1234\n"
     ]
    }
   ],
   "source": [
    "# MIRROR NUMBER PATTER\n",
    "\n",
    "n = 4\n",
    "i = 1\n",
    "spaces = 1\n",
    "\n",
    "\n",
    "while i<=n:\n",
    "    \n",
    "    print(\" \"*(n-i), end=\"\")\n",
    "    j = 1\n",
    "    while j <= i:\n",
    "        print(j,end=\"\") \n",
    "               \n",
    "        j += 1\n",
    "    print()\n",
    "    i += 1"
   ]
  },
  {
   "cell_type": "code",
   "execution_count": 35,
   "metadata": {},
   "outputs": [
    {
     "output_type": "stream",
     "name": "stdout",
     "text": [
      "    *\n   ***\n  *****\n *******\n*********\n"
     ]
    }
   ],
   "source": [
    "# STAR TRIANGLE \n",
    "n = 5\n",
    "i = 1\n",
    "while i <= n-2:\n",
    "    print(\" \"*(n-i),end=\"\")\n",
    "    print(\"*\"*i,end=\"\")\n",
    "    j = 2\n",
    "    while j <= i:\n",
    "        print(\"*\",end=\"\")\n",
    "        j = j+1\n",
    "    # print()\n",
    "    print()\n",
    "    i = i+1"
   ]
  },
  {
   "source": [
    "# # Pattern 1\n",
    "# # - - - - - - \n",
    "\n",
    "# #       1\n",
    "# #     2 3\n",
    "# #   3 4 5\n",
    "# # 4 5 6 7\n",
    "\n",
    "# # - - - - - - \n",
    "# # Pattern 2 \n",
    "# # - - - - - -\n",
    "# # 2\n",
    "# # 4 3\n",
    "# # 6 5 4\n",
    "\n",
    "# + + + + + + + + + \n",
    "# FINAL PATTERN \n",
    "#  - - - - - - - - - \n",
    "#     1\n",
    "#    232\n",
    "#   34543\n",
    "#  4567654\n",
    "# 567898765"
   ],
   "cell_type": "code",
   "metadata": {},
   "execution_count": 29,
   "outputs": []
  },
  {
   "cell_type": "code",
   "execution_count": 30,
   "metadata": {},
   "outputs": [],
   "source": [
    "# n = 4\n",
    "# i = 1\n",
    "# while i<=n+3:\n",
    "    "
   ]
  },
  {
   "source": [
    "#   *\n",
    "#  ***\n",
    "# *****\n",
    "#  ***\n",
    "#   *"
   ],
   "cell_type": "code",
   "metadata": {},
   "execution_count": null,
   "outputs": []
  },
  {
   "cell_type": "code",
   "execution_count": 24,
   "metadata": {
    "tags": []
   },
   "outputs": [
    {
     "output_type": "stream",
     "name": "stdout",
     "text": [
      "    *\n   ***\n  *****\n"
     ]
    }
   ],
   "source": [
    "n = 5\n",
    "i = 1\n",
    "while i <= n-2:\n",
    "    print(\" \"*(n-i),end=\"\")\n",
    "    print(\"*\"*i,end=\"\")\n",
    "    j = 2\n",
    "    while j <= i:\n",
    "        print(\"*\",end=\"\")\n",
    "        j = j+1\n",
    "    print()    \n",
    "    i = i+1"
   ]
  },
  {
   "source": [
    "# CODING NINJAS SOLUTION DAIMOND PATTERN\n",
    "\n",
    "# n = int(input()) \n",
    "# n1 = (n//2) + 1\n",
    "# n2 = n-n1\n",
    "\n",
    "# i = 1\n",
    "# while i <= n1:\n",
    "#     spaces = n1-i\n",
    "#     while spaces>0:\n",
    "#         print(\" \",end=\"\")\n",
    "#         spaces-=1\n",
    "        \n",
    "#     for j in range(1,i+1):\n",
    "#         print(\"*\",end=\"\")\n",
    "        \n",
    "#     for j in range(1,i):\n",
    "#         print(\"*\",end=\"\")\n",
    "    \n",
    "#     print()\n",
    "#     i = i+1\n",
    "\n",
    "# # i = n2\n",
    "# # while i >= 0:\n",
    "# #     print(\" \"*(n2-i+1),end=\"\")\n",
    "# #     print(\"*\"*(2*i-1),end=\"\")\n",
    "# #     print()\n",
    "# #     i = i - 1\n",
    "\n",
    "# j = n2\n",
    "# # J = 3\n",
    "# c = n2\n",
    "# spaces = 1\n",
    "# while j > 0:\n",
    "#     # print() \n",
    "#     for i in range(spaces):\n",
    "#     \tprint(\" \",end=\"\")\n",
    "#     print(\"*\"*(2*j-1),end=\"\")\n",
    "#     spaces+=1\n",
    "#     print()\n",
    "#     j = j - 1\n",
    "#     c = c+1"
   ],
   "cell_type": "code",
   "metadata": {},
   "execution_count": 147,
   "outputs": []
  },
  {
   "cell_type": "code",
   "execution_count": 80,
   "metadata": {},
   "outputs": [
    {
     "output_type": "stream",
     "name": "stdout",
     "text": [
      "....1\n...232\n..34543\n.4567654\n567898765\n"
     ]
    }
   ],
   "source": [
    "# PATTERN - TRIANGLE OF NUMBERS\n",
    "n = 5\n",
    "i = 1\n",
    "while i <= n: \n",
    "    inc_start_point = i\n",
    "    dec_start_point = 2*(i - 1)\n",
    "    # print(\"-----\",dec_start_point)\n",
    "\n",
    "    print(\".\"*(n-i),end=\"\") \n",
    "    \n",
    "    x = 1\n",
    "    while x <= i:\n",
    "        print(inc_start_point,end=\"\")\n",
    "        inc_start_point+= 1\n",
    "        x += 1\n",
    "\n",
    "    y = 1\n",
    "    while y <= i-1:\n",
    "        print(dec_start_point,end=\"\")\n",
    "        y += 1\n",
    "        dec_start_point -= 1\n",
    "    print()\n",
    "    i += 1"
   ]
  },
  {
   "cell_type": "code",
   "execution_count": 83,
   "metadata": {},
   "outputs": [
    {
     "output_type": "stream",
     "name": "stdout",
     "text": [
      "....1\n...212\n..32123\n.4321234\n543212345\n"
     ]
    }
   ],
   "source": [
    "# PYRAMID PATTERN\n",
    "\n",
    "n = 5\n",
    "i = 1\n",
    "while i <= n: \n",
    "    inc_start_point = i\n",
    "    dec_start_point = 2*(i - 1)\n",
    "    # print(\"-----\",dec_start_point)\n",
    "\n",
    "    print(\".\"*(n-i),end=\"\") \n",
    "    \n",
    "    x = 1\n",
    "    while x <= i:\n",
    "        print(inc_start_point,end=\"\")\n",
    "        inc_start_point-= 1\n",
    "        x += 1\n",
    "\n",
    "    y = 1\n",
    "    while y <= i-1:\n",
    "        print(y+1,end=\"\")\n",
    "        y += 1\n",
    "        dec_start_point += 1\n",
    "    print()\n",
    "    i += 1"
   ]
  },
  {
   "cell_type": "code",
   "execution_count": 105,
   "metadata": {},
   "outputs": [
    {
     "output_type": "stream",
     "name": "stdout",
     "text": [
      "* \n * * \n  * * * \n   * * * * \n    * * * * * \n     * * * * * * \n    * * * * * \n   * * * * \n  * * * \n * * \n* \n\n"
     ]
    }
   ],
   "source": [
    "# STAR PATTERN\n",
    "\n",
    "n = 11\n",
    "n1 = (n+1)//2\n",
    "n2 = n - n1\n",
    "i = 1\n",
    "while i <= n1:\n",
    "    print(\" \"*(i-1),end=\"\")\n",
    "    print(\"* \"*(i),end=\"\")\n",
    "    print()\n",
    "    i += 1\n",
    "\n",
    "while 0 <= n2:\n",
    "    print(\" \"*(n2-1),end=\"\")\n",
    "    print(\"* \"*(n2),end=\"\")\n",
    "    n2 -= 1\n",
    "    print()"
   ]
  },
  {
   "cell_type": "code",
   "execution_count": 128,
   "metadata": {
    "tags": []
   },
   "outputs": [
    {
     "output_type": "stream",
     "name": "stdout",
     "text": [
      "1      1\n12    21\n123  321\n12344321\n"
     ]
    }
   ],
   "source": [
    "n = 4\n",
    "i = 1\n",
    "# spaces = n + 2\n",
    "while i <= n:\n",
    "    j = 1\n",
    "    while j<=i:\n",
    "        print(j,end=\"\")\n",
    "        j += 1\n",
    "    # print()\n",
    "    print(\" \"*(2*(n-i)),end=\"\")\n",
    "    y = i\n",
    "    while y >0:\n",
    "        \n",
    "        print(y,end=\"\")\n",
    "        # spaces -= 2\n",
    "        y -=1\n",
    "    print()\n",
    "\n",
    "    i += 1"
   ]
  },
  {
   "cell_type": "code",
   "execution_count": 131,
   "metadata": {},
   "outputs": [
    {
     "output_type": "execute_result",
     "data": {
      "text/plain": [
       "'  *'"
      ]
     },
     "metadata": {},
     "execution_count": 131
    }
   ],
   "source": [
    "\"  \"+\"*\""
   ]
  },
  {
   "cell_type": "code",
   "execution_count": 133,
   "metadata": {},
   "outputs": [
    {
     "output_type": "stream",
     "name": "stdout",
     "text": [
      "*   *   *   \n"
     ]
    }
   ],
   "source": [
    "print(\"*\"+\"   \"+\"*\"+\" \"*3+\"*\"+\" \"*3)"
   ]
  },
  {
   "cell_type": "code",
   "execution_count": 149,
   "metadata": {},
   "outputs": [
    {
     "output_type": "stream",
     "name": "stdout",
     "text": [
      "*000*000*\n0*00*00*0\n00*0*0*00\n000***000\n"
     ]
    }
   ],
   "source": [
    "# 0 STAR PATTERN\n",
    "n = 4\n",
    "i = 1\n",
    "while i <= n:\n",
    "    print(\"0\"*(i-1),end=\"\")\n",
    "    print(\"*\",end=\"\")\n",
    "    print(\"0\"*(n-i),end=\"\")\n",
    "    print(\"*\",end=\"\")\n",
    "    print(\"0\"*(n-i),end=\"\")\n",
    "    print(\"*\",end=\"\")    \n",
    "    print(\"0\"*(i-1),end=\"\")\n",
    "    print()\n",
    "    i += 1"
   ]
  },
  {
   "cell_type": "code",
   "execution_count": null,
   "metadata": {},
   "outputs": [],
   "source": []
  }
 ]
}