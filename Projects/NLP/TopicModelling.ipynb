{
 "cells": [
  {
   "cell_type": "raw",
   "metadata": {},
   "source": [
    "- Counting frequency of words\n",
    "- Deriving LDA topics (8) for each article\n",
    "- Finding the topic with the highest probability of the corresponding article "
   ]
  },
  {
   "cell_type": "code",
   "execution_count": 2,
   "metadata": {},
   "outputs": [],
   "source": [
    "import pandas as pd"
   ]
  },
  {
   "cell_type": "code",
   "execution_count": 5,
   "metadata": {},
   "outputs": [],
   "source": [
    "npr = pd.read_csv(\"/Users/Casey/Documents/Learning/Deep Learning/DL_JosePortilla/NLP/Jose_UPDATED_NLP_COURSE/05-Topic-Modeling/npr.csv\")"
   ]
  },
  {
   "cell_type": "code",
   "execution_count": 6,
   "metadata": {},
   "outputs": [
    {
     "data": {
      "text/html": [
       "<div>\n",
       "<style scoped>\n",
       "    .dataframe tbody tr th:only-of-type {\n",
       "        vertical-align: middle;\n",
       "    }\n",
       "\n",
       "    .dataframe tbody tr th {\n",
       "        vertical-align: top;\n",
       "    }\n",
       "\n",
       "    .dataframe thead th {\n",
       "        text-align: right;\n",
       "    }\n",
       "</style>\n",
       "<table border=\"1\" class=\"dataframe\">\n",
       "  <thead>\n",
       "    <tr style=\"text-align: right;\">\n",
       "      <th></th>\n",
       "      <th>Article</th>\n",
       "    </tr>\n",
       "  </thead>\n",
       "  <tbody>\n",
       "    <tr>\n",
       "      <th>0</th>\n",
       "      <td>In the Washington of 2016, even when the polic...</td>\n",
       "    </tr>\n",
       "    <tr>\n",
       "      <th>1</th>\n",
       "      <td>Donald Trump has used Twitter  —   his prefe...</td>\n",
       "    </tr>\n",
       "    <tr>\n",
       "      <th>2</th>\n",
       "      <td>Donald Trump is unabashedly praising Russian...</td>\n",
       "    </tr>\n",
       "    <tr>\n",
       "      <th>3</th>\n",
       "      <td>Updated at 2:50 p. m. ET, Russian President Vl...</td>\n",
       "    </tr>\n",
       "    <tr>\n",
       "      <th>4</th>\n",
       "      <td>From photography, illustration and video, to d...</td>\n",
       "    </tr>\n",
       "  </tbody>\n",
       "</table>\n",
       "</div>"
      ],
      "text/plain": [
       "                                             Article\n",
       "0  In the Washington of 2016, even when the polic...\n",
       "1    Donald Trump has used Twitter  —   his prefe...\n",
       "2    Donald Trump is unabashedly praising Russian...\n",
       "3  Updated at 2:50 p. m. ET, Russian President Vl...\n",
       "4  From photography, illustration and video, to d..."
      ]
     },
     "execution_count": 6,
     "metadata": {},
     "output_type": "execute_result"
    }
   ],
   "source": [
    "npr.head()"
   ]
  },
  {
   "cell_type": "code",
   "execution_count": 7,
   "metadata": {},
   "outputs": [],
   "source": [
    "from sklearn.feature_extraction.text import CountVectorizer"
   ]
  },
  {
   "cell_type": "raw",
   "metadata": {},
   "source": [
    "max_df float in range [0.0, 1.0] or int, default=1.0\n",
    "\n",
    "When building the vocabulary ignore terms that have a document frequency strictly higher than the given threshold (corpus-specific stop words). If float, the parameter represents a proportion of documents, integer absolute counts. This parameter is ignored if vocabulary is not None.\n",
    "\n",
    "\n",
    "min_df float in range [0.0, 1.0] or int, default=1\n",
    "\n",
    "When building the vocabulary ignore terms that have a document frequency strictly lower than the given threshold. This value is also called cut-off in the literature. If float, the parameter represents a proportion of documents, integer absolute counts. This parameter is ignored if vocabulary is not None."
   ]
  },
  {
   "cell_type": "code",
   "execution_count": 10,
   "metadata": {},
   "outputs": [],
   "source": [
    "cv = CountVectorizer(max_df = 0.9, min_df = 2, stop_words=\"english\")"
   ]
  },
  {
   "cell_type": "code",
   "execution_count": 11,
   "metadata": {},
   "outputs": [],
   "source": [
    "dtm = cv.fit_transform(npr[\"Article\"])"
   ]
  },
  {
   "cell_type": "code",
   "execution_count": 12,
   "metadata": {},
   "outputs": [
    {
     "data": {
      "text/plain": [
       "<11992x54777 sparse matrix of type '<class 'numpy.int64'>'\n",
       "\twith 3033388 stored elements in Compressed Sparse Row format>"
      ]
     },
     "execution_count": 12,
     "metadata": {},
     "output_type": "execute_result"
    }
   ],
   "source": [
    "dtm"
   ]
  },
  {
   "cell_type": "code",
   "execution_count": 13,
   "metadata": {},
   "outputs": [],
   "source": [
    "from sklearn.decomposition import LatentDirichletAllocation"
   ]
  },
  {
   "cell_type": "code",
   "execution_count": 14,
   "metadata": {},
   "outputs": [],
   "source": [
    "lda = LatentDirichletAllocation(n_components = 8, random_state = 42)"
   ]
  },
  {
   "cell_type": "code",
   "execution_count": 15,
   "metadata": {},
   "outputs": [
    {
     "data": {
      "text/plain": [
       "LatentDirichletAllocation(n_components=8, random_state=42)"
      ]
     },
     "execution_count": 15,
     "metadata": {},
     "output_type": "execute_result"
    }
   ],
   "source": [
    "lda.fit(dtm)"
   ]
  },
  {
   "cell_type": "code",
   "execution_count": 16,
   "metadata": {},
   "outputs": [
    {
     "data": {
      "text/plain": [
       "array([[5.04335535e+00, 2.15614750e+03, 1.25015996e-01, ...,\n",
       "        1.25055022e-01, 1.25008451e-01, 1.25002273e-01],\n",
       "       [8.23455643e+00, 1.52267339e+02, 1.25000001e-01, ...,\n",
       "        1.25000000e-01, 1.25000001e-01, 1.25005939e-01],\n",
       "       [3.90417960e+00, 6.58531409e+02, 1.25000001e-01, ...,\n",
       "        6.12464717e+00, 2.12439874e+00, 1.25034174e-01],\n",
       "       ...,\n",
       "       [4.43884421e+01, 4.53198268e+01, 3.12498400e+00, ...,\n",
       "        1.25179166e-01, 1.25316393e-01, 2.12493593e+00],\n",
       "       [2.98456360e+00, 4.23776788e+02, 1.25000001e-01, ...,\n",
       "        1.25016532e-01, 1.25236275e-01, 1.25002735e-01],\n",
       "       [2.85375570e+01, 8.55163299e+02, 1.25000001e-01, ...,\n",
       "        1.25060520e-01, 1.25000000e-01, 1.25013852e-01]])"
      ]
     },
     "execution_count": 16,
     "metadata": {},
     "output_type": "execute_result"
    }
   ],
   "source": [
    "lda.components_"
   ]
  },
  {
   "cell_type": "code",
   "execution_count": 27,
   "metadata": {},
   "outputs": [
    {
     "name": "stdout",
     "output_type": "stream",
     "text": [
      "THE TOP 15 WORDS FOR Topic #0\n",
      "['000', 'money', 'year', 'companies', 'new', 'government', 'percent', 'federal', 'million', 'company', 'care', 'people', 'health', 'said', 'says']\n",
      "\n",
      "\n",
      "THE TOP 15 WORDS FOR Topic #1\n",
      "['military', 'npr', 'russian', 'told', 'campaign', 'new', 'security', 'obama', 'news', 'white', 'russia', 'house', 'president', 'said', 'trump']\n",
      "\n",
      "\n",
      "THE TOP 15 WORDS FOR Topic #2\n",
      "['make', 'way', 'city', 'home', 'day', 'world', 'time', 'water', 'years', 'new', 'food', 'just', 'people', 'like', 'says']\n",
      "\n",
      "\n",
      "THE TOP 15 WORDS FOR Topic #3\n",
      "['years', 'new', 'care', 'don', 'medical', 'just', 'disease', 'patients', 'children', 'like', 'study', 'women', 'health', 'people', 'says']\n",
      "\n",
      "\n",
      "THE TOP 15 WORDS FOR Topic #4\n",
      "['obama', 'election', 'new', 'court', 'voters', 'vote', 'party', 'republican', 'campaign', 'president', 'people', 'state', 'clinton', 'said', 'trump']\n",
      "\n",
      "\n",
      "THE TOP 15 WORDS FOR Topic #5\n",
      "['story', 've', 'going', 'life', 'don', 'new', 'way', 'music', 'really', 'time', 'know', 'think', 'people', 'just', 'like']\n",
      "\n",
      "\n",
      "THE TOP 15 WORDS FOR Topic #6\n",
      "['science', 'don', 'percent', 'kids', 'university', 'time', 'schools', 'people', 'education', 'just', 'new', 'like', 'students', 'school', 'says']\n",
      "\n",
      "\n",
      "THE TOP 15 WORDS FOR Topic #7\n",
      "['law', 'attack', 'npr', 'state', 'killed', 'reported', 'government', 'according', 'city', 'told', 'reports', 'says', 'people', 'police', 'said']\n",
      "\n",
      "\n"
     ]
    }
   ],
   "source": [
    "for i,topic in enumerate(lda.components_):\n",
    "    print(f\"THE TOP 15 WORDS FOR Topic #{i}\")\n",
    "    print([cv.get_feature_names()[x] for x in topic.argsort()[-15:]])\n",
    "    print()\n",
    "    print()\n"
   ]
  },
  {
   "cell_type": "code",
   "execution_count": 28,
   "metadata": {},
   "outputs": [],
   "source": [
    "npr[\"Topics\"] = lda.transform(dtm).argmax(axis = 1)"
   ]
  },
  {
   "cell_type": "code",
   "execution_count": 29,
   "metadata": {},
   "outputs": [
    {
     "data": {
      "text/html": [
       "<div>\n",
       "<style scoped>\n",
       "    .dataframe tbody tr th:only-of-type {\n",
       "        vertical-align: middle;\n",
       "    }\n",
       "\n",
       "    .dataframe tbody tr th {\n",
       "        vertical-align: top;\n",
       "    }\n",
       "\n",
       "    .dataframe thead th {\n",
       "        text-align: right;\n",
       "    }\n",
       "</style>\n",
       "<table border=\"1\" class=\"dataframe\">\n",
       "  <thead>\n",
       "    <tr style=\"text-align: right;\">\n",
       "      <th></th>\n",
       "      <th>Article</th>\n",
       "      <th>Topics</th>\n",
       "    </tr>\n",
       "  </thead>\n",
       "  <tbody>\n",
       "    <tr>\n",
       "      <th>0</th>\n",
       "      <td>In the Washington of 2016, even when the polic...</td>\n",
       "      <td>1</td>\n",
       "    </tr>\n",
       "    <tr>\n",
       "      <th>1</th>\n",
       "      <td>Donald Trump has used Twitter  —   his prefe...</td>\n",
       "      <td>1</td>\n",
       "    </tr>\n",
       "    <tr>\n",
       "      <th>2</th>\n",
       "      <td>Donald Trump is unabashedly praising Russian...</td>\n",
       "      <td>1</td>\n",
       "    </tr>\n",
       "    <tr>\n",
       "      <th>3</th>\n",
       "      <td>Updated at 2:50 p. m. ET, Russian President Vl...</td>\n",
       "      <td>1</td>\n",
       "    </tr>\n",
       "    <tr>\n",
       "      <th>4</th>\n",
       "      <td>From photography, illustration and video, to d...</td>\n",
       "      <td>7</td>\n",
       "    </tr>\n",
       "    <tr>\n",
       "      <th>5</th>\n",
       "      <td>I did not want to join yoga class. I hated tho...</td>\n",
       "      <td>3</td>\n",
       "    </tr>\n",
       "    <tr>\n",
       "      <th>6</th>\n",
       "      <td>With a   who has publicly supported the debunk...</td>\n",
       "      <td>3</td>\n",
       "    </tr>\n",
       "    <tr>\n",
       "      <th>7</th>\n",
       "      <td>I was standing by the airport exit, debating w...</td>\n",
       "      <td>2</td>\n",
       "    </tr>\n",
       "    <tr>\n",
       "      <th>8</th>\n",
       "      <td>If movies were trying to be more realistic, pe...</td>\n",
       "      <td>3</td>\n",
       "    </tr>\n",
       "    <tr>\n",
       "      <th>9</th>\n",
       "      <td>Eighteen years ago, on New Year’s Eve, David F...</td>\n",
       "      <td>2</td>\n",
       "    </tr>\n",
       "  </tbody>\n",
       "</table>\n",
       "</div>"
      ],
      "text/plain": [
       "                                             Article  Topics\n",
       "0  In the Washington of 2016, even when the polic...       1\n",
       "1    Donald Trump has used Twitter  —   his prefe...       1\n",
       "2    Donald Trump is unabashedly praising Russian...       1\n",
       "3  Updated at 2:50 p. m. ET, Russian President Vl...       1\n",
       "4  From photography, illustration and video, to d...       7\n",
       "5  I did not want to join yoga class. I hated tho...       3\n",
       "6  With a   who has publicly supported the debunk...       3\n",
       "7  I was standing by the airport exit, debating w...       2\n",
       "8  If movies were trying to be more realistic, pe...       3\n",
       "9  Eighteen years ago, on New Year’s Eve, David F...       2"
      ]
     },
     "execution_count": 29,
     "metadata": {},
     "output_type": "execute_result"
    }
   ],
   "source": [
    "npr.head(10)"
   ]
  },
  {
   "cell_type": "code",
   "execution_count": 33,
   "metadata": {},
   "outputs": [
    {
     "data": {
      "text/plain": [
       "'  Donald Trump is unabashedly praising Russian President Vladimir Putin, a day after outgoing President Obama issued tough sanctions against the country in response to alleged cyberattacks intended to influence the U. S. elections. In a tweet Friday afternoon, Trump responded to Putin’s decision not to expel U. S. diplomats from Russia in kind after Obama ordered 35 Russian diplomats to leave the country  —   admiring the Russian leader’s strategic approach over President Obama, which is the theme of Trump’s ongoing praise of Putin. Earlier Friday, Putin instead signaled he would wait to decide how to move forward until Trump takes office, giving him someone in the Oval Office who has been much friendlier and quite generous with his praise  —   a stark break from decades of U. S. foreign policy. The Russian Embassy in the U. S. also retweeted Trump’s post, which he pinned to his Twitter timeline so it would remain at the top. Trump also posted it to Instagram. On Thursday, President Obama issued a stinging rebuke to Russia after U. S. intelligence officials concluded the country had directed hacks into Democratic National Committee emails and the personal email account of Democratic nominee Hillary Clinton’s campaign chairman, John Podesta. In a statement, Obama said ”all Americans should be alarmed by Russia’s actions.” Trump’s praise of Putin stands in stark contrast not just with the outgoing administration, but with top leaders of his own party. GOP congressional leaders backed Obama’s actions on Thursday, albeit criticizing the president for being too late in taking a strong stance against Russia. House Speaker Paul Ryan called the sanctions ”overdue” but ”appropriate” and said that ”Russia does not share America’s interests.” ”The Russians are not our friends,” Senate Majority Leader Mitch McConnell said in a statement, calling the sanctions a ”good initial step.” Obama has pointed to the impact of past sanctions by the U. S. and Europe in the wake of the annexation of Crimea, maintaining that his approach has damaged Russia’s economy and isolated the country on the world stage. Trump released a brief statement Thursday evening in response to the latest actions by Obama against Russia simply stating that, ”It’s time for our country to move on to bigger and better things.” He said he would meet with U. S. intelligence officials regarding the cyberhacking, though Trump has repeatedly cast doubt on their findings and throughout the campaign dismissed reports that Russia was behind the attacks. Trump raised eyebrows throughout the campaign with his praise of Putin. ”He’s running his country, and at least he’s a leader, unlike what we have in this country,” Trump said in an interview with MSNBC in December 2015. He was pressed by host Joe Scarborough on the killings of political figures and journalists critical of Putin and deflected. That interview came just after Putin praised Trump as ”talented.” Later in the campaign, Trump suggested Russia should find emails missing from Hillary Clinton’s time as secretary of state, which his aides later said was a joke. At the time, Trump tried distancing himself from Putin. ”I never met Putin. I don’t know who Putin is. He said one nice thing about me. He said I’m a genius. I said, ’Thank you very much’ to the newspaper, and that was the end of it,” Trump said. But not long after, Trump was heavily criticized for saying Putin wasn’t going into Ukraine, even though his country had already annexed Crimea. The Republican nominee also repeated his praise of Putin as ”a leader far more than our president has been” at a national security town hall in early September. One of the most memorable clashes in Trump’s debates with Hillary Clinton was when the Democratic nominee accused him of being a ”puppet” of Russia. Trump shot back: ”No puppet. No puppet. You’re the puppet.” He often criticizes the   ”reset” with Russia that Clinton led in the early days of the Obama administration, even as Trump himself repeatedly has called for friendlier relations with Moscow. With three weeks until Inauguration Day, Trump has increasingly used his Twitter feed to weigh in on foreign policy  —   violating usual protocols where the winner of an election avoids interfering in the foreign policy actions of the sitting president. Trump’s staff has said such use of Twitter to weigh in on foreign policy won’t end once he’s in the Oval Office. So far, he’s outlined his opposition to the United States’ abstention from the U. N. Security Council vote on Israeli settlements earlier this month. Trump has also criticized China for its seizure of an unmanned U. S. Navy underwater drone, before saying the country that he’s often criticized should keep the drone. And Trump has also called for the U. S. to strengthen its nuclear arsenal and recently seemed to encourage a nuclear arms race with Russia  —   perhaps because he believes his strategic approach to Putin will work better than Obama’s.'"
      ]
     },
     "execution_count": 33,
     "metadata": {},
     "output_type": "execute_result"
    }
   ],
   "source": [
    "npr[\"Article\"][2]"
   ]
  },
  {
   "cell_type": "markdown",
   "metadata": {},
   "source": [
    "### Looks like article 2 relates with our Topic # 1"
   ]
  },
  {
   "cell_type": "code",
   "execution_count": null,
   "metadata": {},
   "outputs": [],
   "source": []
  }
 ],
 "metadata": {
  "kernelspec": {
   "display_name": "Python 3",
   "language": "python",
   "name": "python3"
  },
  "language_info": {
   "codemirror_mode": {
    "name": "ipython",
    "version": 3
   },
   "file_extension": ".py",
   "mimetype": "text/x-python",
   "name": "python",
   "nbconvert_exporter": "python",
   "pygments_lexer": "ipython3",
   "version": "3.8.0"
  }
 },
 "nbformat": 4,
 "nbformat_minor": 4
}
